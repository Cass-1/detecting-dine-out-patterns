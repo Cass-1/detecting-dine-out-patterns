{
 "cells": [
  {
   "cell_type": "code",
   "execution_count": null,
   "metadata": {},
   "outputs": [
    {
     "name": "stdout",
     "output_type": "stream",
     "text": [
      "The address for the coordinates is: 1301 4th Ave, Seattle, WA 98101, USA\n"
     ]
    }
   ],
   "source": [
    "import requests\n",
    "from dotenv import load_dotenv\n",
    "import os\n",
    "\n",
    "# Load environment variables from .env file\n",
    "load_dotenv(\"/.env\")\n",
    "\n",
    "def get_location_from_coordinates(lat, lng, api_key):\n",
    "    url = f\"https://maps.googleapis.com/maps/api/geocode/json?latlng={lat},{lng}&key={api_key}\"\n",
    "    response = requests.get(url)\n",
    "    if response.status_code == 200:\n",
    "        results = response.json().get('results')\n",
    "        if results:\n",
    "            return results[0]['formatted_address']\n",
    "        else:\n",
    "            return \"No address found\"\n",
    "    else:\n",
    "        return f\"Error: {response.status_code}\"\n",
    "\n",
    "latitude = 47.608432250166345\n",
    "longitude = -122.33516665745272\n",
    "\n",
    "# Get the API key from environment variables\n",
    "api_key = os.getenv('GOOGLE_API_KEY')\n",
    "\n",
    "address = get_location_from_coordinates(latitude, longitude, api_key)\n",
    "print(f\"The address for the coordinates is: {address}\")"
   ]
  }
 ],
 "metadata": {
  "kernelspec": {
   "display_name": ".venv",
   "language": "python",
   "name": "python3"
  },
  "language_info": {
   "codemirror_mode": {
    "name": "ipython",
    "version": 3
   },
   "file_extension": ".py",
   "mimetype": "text/x-python",
   "name": "python",
   "nbconvert_exporter": "python",
   "pygments_lexer": "ipython3",
   "version": "3.12.7"
  }
 },
 "nbformat": 4,
 "nbformat_minor": 2
}
