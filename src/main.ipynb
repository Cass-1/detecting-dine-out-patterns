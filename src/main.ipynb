{
 "cells": [
  {
   "cell_type": "code",
   "execution_count": null,
   "metadata": {},
   "outputs": [],
   "source": [
    "import pandas as pd\n",
    "import numpy as np\n",
    "import seaborn as sns\n",
    "import matplotlib.pyplot as plt"
   ]
  },
  {
   "cell_type": "code",
   "execution_count": null,
   "metadata": {},
   "outputs": [],
   "source": [
    "# Load your CSV data\n",
    "movement_data = pd.read_csv(\"../data/movements.csv\", parse_dates=[\"datetime\"])  # Replace with your file path\n",
    "restaurant_data = pd.read_csv(\"../data/restaurants.csv\")  # Replace with your file path"
   ]
  },
  {
   "cell_type": "markdown",
   "metadata": {},
   "source": [
    "# Clean Data"
   ]
  },
  {
   "cell_type": "code",
   "execution_count": null,
   "metadata": {},
   "outputs": [],
   "source": [
    "movement_data.columns = movement_data.columns.str.lower()\n",
    "restaurant_data.columns = restaurant_data.columns.str.lower()\n",
    "restaurant_data.rename(columns={'restaurant id': 'restaurant_id'}, inplace=True)\n",
    "\n",
    "print(movement_data.head())\n",
    "print(restaurant_data.head())\n",
    "\n"
   ]
  },
  {
   "cell_type": "code",
   "execution_count": null,
   "metadata": {},
   "outputs": [],
   "source": [
    "print(movement_data.isnull().sum())\n",
    "print(restaurant_data.isnull().sum())"
   ]
  },
  {
   "cell_type": "markdown",
   "metadata": {},
   "source": [
    "# Exploratory Data Analysis"
   ]
  },
  {
   "cell_type": "markdown",
   "metadata": {},
   "source": [
    "## How many people"
   ]
  },
  {
   "cell_type": "code",
   "execution_count": null,
   "metadata": {},
   "outputs": [],
   "source": [
    "print(len(movement_data.groupby('id')))"
   ]
  },
  {
   "cell_type": "markdown",
   "metadata": {},
   "source": [
    "## Entries per person"
   ]
  },
  {
   "cell_type": "code",
   "execution_count": null,
   "metadata": {},
   "outputs": [],
   "source": [
    "print(movement_data.groupby('id')['datetime'].count().head(10))"
   ]
  },
  {
   "cell_type": "markdown",
   "metadata": {},
   "source": [
    "## Graphs of People's Centeral Location"
   ]
  },
  {
   "cell_type": "markdown",
   "metadata": {},
   "source": [
    "### Haverstine function"
   ]
  },
  {
   "cell_type": "code",
   "execution_count": null,
   "metadata": {},
   "outputs": [],
   "source": [
    "# Haversine distance function (Earth radius in kilometers)\n",
    "def haversine(lon1, lat1, lon2, lat2):\n",
    "    R = 6371  # Radius of Earth in kilometers\n",
    "    lon1, lat1, lon2, lat2 = map(np.radians, [lon1, lat1, lon2, lat2])\n",
    "    dlon = lon2 - lon1\n",
    "    dlat = lat2 - lat1\n",
    "    a = np.sin(dlat/2)**2 + np.cos(lat1) * np.cos(lat2) * np.sin(dlon/2)**2\n",
    "    c = 2 * np.arcsin(np.sqrt(a))\n",
    "    return R * c"
   ]
  },
  {
   "cell_type": "markdown",
   "metadata": {},
   "source": [
    "### Graphs"
   ]
  },
  {
   "cell_type": "code",
   "execution_count": null,
   "metadata": {},
   "outputs": [],
   "source": [
    "centroid = movement_data.groupby('id').agg({'longitude': 'mean', 'latitude': 'mean'}).reset_index()\n",
    "centroid.columns = ['id', 'centroid_longitude', 'centroid_latitude']"
   ]
  },
  {
   "cell_type": "code",
   "execution_count": null,
   "metadata": {},
   "outputs": [],
   "source": [
    "# Create scatter plot\n",
    "plt.figure(figsize=(8, 5)) \n",
    "plt.scatter(centroid['centroid_longitude'], centroid['centroid_latitude'],label='people', color='blue', marker='o', s=100, alpha=0.7)\n",
    "\n",
    "# Add title and labels\n",
    "plt.title('Centeroid Points of People')\n",
    "plt.xlabel('Longitude')\n",
    "plt.ylabel('Latitude')\n",
    "\n",
    "# Show grid\n",
    "plt.grid(True)\n",
    "\n",
    "# Display the plot\n",
    "plt.show()"
   ]
  },
  {
   "cell_type": "code",
   "execution_count": null,
   "metadata": {},
   "outputs": [],
   "source": [
    "plt.scatter(centroid['centroid_longitude'], centroid['centroid_latitude'],label='People', color='blue', marker='o', s=100, alpha=0.7)\n",
    "plt.scatter(restaurant_data['longitude'], restaurant_data['latitude'],label='Restaurants', color='red', marker='s', s=100, alpha=0.7)\n",
    "\n",
    "# Add title and labels\n",
    "plt.title('Centroid Points of People and Restaurant Locations')\n",
    "plt.xlabel('Longitude')\n",
    "plt.ylabel('Latitude')\n",
    "plt.legend()\n",
    "plt.xticks(rotation=45)\n",
    "plt.grid(True)\n",
    "plt.show()\n"
   ]
  },
  {
   "cell_type": "markdown",
   "metadata": {},
   "source": [
    "## Paths"
   ]
  },
  {
   "cell_type": "code",
   "execution_count": null,
   "metadata": {},
   "outputs": [],
   "source": [
    "person1 = movement_data[movement_data['id'] == 'I000']\n",
    "person1.head()"
   ]
  },
  {
   "cell_type": "markdown",
   "metadata": {},
   "source": [
    "## Average Time Between Measurements"
   ]
  },
  {
   "cell_type": "code",
   "execution_count": null,
   "metadata": {},
   "outputs": [],
   "source": [
    "movement_data['timestamp'] = pd.to_datetime(movement_data['datetime'])\n",
    "\n",
    "# Calculate time differences\n",
    "time_diffs = movement_data['timestamp'].diff()\n",
    "\n",
    "# Compute the average time difference\n",
    "average_time_diff = time_diffs.mean()\n",
    "\n",
    "print(average_time_diff)"
   ]
  },
  {
   "cell_type": "markdown",
   "metadata": {},
   "source": [
    "## People's Visits to Restaurants"
   ]
  },
  {
   "cell_type": "code",
   "execution_count": null,
   "metadata": {},
   "outputs": [],
   "source": [
    "\n",
    "\n",
    "# Define a function to check if each movement is near a restaurant\n",
    "def is_near_restaurant(movement, restaurants, threshold_km=0.5):\n",
    "    # Ensure 'longitude' and 'latitude' exist in movement\n",
    "    if 'longitude' not in movement or 'latitude' not in movement:\n",
    "        raise ValueError(\"Movement must contain 'longitude' and 'latitude' keys.\")\n",
    "\n",
    "    # Iterate over the rows of the restaurants DataFrame\n",
    "    for index, restaurant in restaurants.iterrows():\n",
    "        # Calculate the distance using the haversine function\n",
    "        distance = haversine(movement['longitude'], movement['latitude'],\n",
    "                             restaurant['longitude'], restaurant['latitude'])\n",
    "        \n",
    "        # Check if the distance is within the threshold\n",
    "        if distance <= threshold_km:\n",
    "            return True, restaurant['restaurant_id']  # Return True and the restaurant ID\n",
    "\n",
    "    return False, None  # Return False and None if no nearby restaurant is found\n",
    "\n",
    "\n",
    "# Apply function to each movement and create a column indicating restaurant visits\n",
    "# movement_data['restaurant_id'] = movement_data.apply(\n",
    "#     lambda row: foo(count, row, restaurant_data), axis=1 \n",
    "# )\n",
    "for i in range(0, 100):\n",
    "    person_id = movement_data.head(1)['id']\n",
    "    print(f'{person_id}: {is_near_restaurant(movement_data.iloc[i], restaurant_data)[1]}')\n",
    "\n",
    "\n",
    "# Loop through each row in the movement DataFrame\n",
    "# for index, movement in movement_data.iterrows():\n",
    "#     is_near, restaurant_id = is_near_restaurant(movement, restaurant_data)\n",
    "#     print(f\"Movement ID: {movement['id']} - Is near a restaurant? {is_near}, Restaurant ID: {restaurant_id}\")"
   ]
  }
 ],
 "metadata": {
  "kernelspec": {
   "display_name": ".venv",
   "language": "python",
   "name": "python3"
  },
  "language_info": {
   "codemirror_mode": {
    "name": "ipython",
    "version": 3
   },
   "file_extension": ".py",
   "mimetype": "text/x-python",
   "name": "python",
   "nbconvert_exporter": "python",
   "pygments_lexer": "ipython3",
   "version": "3.12.7"
  }
 },
 "nbformat": 4,
 "nbformat_minor": 2
}
