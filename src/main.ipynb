{
 "cells": [
  {
   "cell_type": "code",
   "execution_count": 7,
   "metadata": {},
   "outputs": [],
   "source": [
    "import pandas as pd\n",
    "import folium\n",
    "import numpy as np\n",
    "import seaborn as sns\n",
    "import scipy\n",
    "from scipy import stats\n",
    "import matplotlib.pyplot as plt\n"
   ]
  },
  {
   "cell_type": "code",
   "execution_count": 8,
   "metadata": {},
   "outputs": [],
   "source": [
    "# Load your CSV data\n",
    "movement_data = pd.read_csv(\"../data/movements.csv\", parse_dates=[\"datetime\"])  # Replace with your file path\n",
    "restaurant_data = pd.read_csv(\"../data/restaurants.csv\")  # Replace with your file path"
   ]
  },
  {
   "cell_type": "markdown",
   "metadata": {},
   "source": [
    "# Clean Data"
   ]
  },
  {
   "cell_type": "code",
   "execution_count": 9,
   "metadata": {},
   "outputs": [
    {
     "name": "stdout",
     "output_type": "stream",
     "text": [
      "             datetime    id   longitude   latitude\n",
      "0 2020-01-01 00:00:00  I000 -122.335167  47.608013\n",
      "1 2020-01-01 00:01:07  I000 -122.335166  47.608462\n",
      "2 2020-01-01 00:01:37  I000 -122.335167  47.608432\n",
      "3 2020-01-01 00:02:35  I000 -122.335166  47.608682\n",
      "4 2020-01-01 00:04:05  I000 -122.335166  47.608841\n",
      "  restaurant_id                   name  \\\n",
      "0          R000   Pullman Quick Stop 0   \n",
      "1          R001   Pullman Quick Stop 1   \n",
      "2          R002   Pullman Department 2   \n",
      "3          R003    Pullman Groceries 3   \n",
      "4          R004  Pullman Supercenter 4   \n",
      "\n",
      "                                            category   longitude   latitude  \n",
      "0                                 Convenience Stores -122.435908  47.621564  \n",
      "1                                 Convenience Stores -122.297377  47.649300  \n",
      "2                                  Department Stores -122.338057  47.666842  \n",
      "3  Supermarkets/Other Grocery (Exc Convenience) Strs -122.242926  47.587846  \n",
      "4                     Warehouse Clubs & Supercenters -122.297103  47.534843  \n"
     ]
    }
   ],
   "source": [
    "movement_data.columns = movement_data.columns.str.lower()\n",
    "restaurant_data.columns = restaurant_data.columns.str.lower()\n",
    "restaurant_data.rename(columns={'restaurant id': 'restaurant_id'}, inplace=True)\n",
    "\n",
    "print(movement_data.head())\n",
    "print(restaurant_data.head())\n",
    "\n"
   ]
  },
  {
   "cell_type": "code",
   "execution_count": null,
   "metadata": {},
   "outputs": [],
   "source": []
  },
  {
   "cell_type": "code",
   "execution_count": 10,
   "metadata": {},
   "outputs": [
    {
     "name": "stdout",
     "output_type": "stream",
     "text": [
      "datetime     0\n",
      "id           0\n",
      "longitude    0\n",
      "latitude     0\n",
      "dtype: int64\n",
      "restaurant_id    0\n",
      "name             0\n",
      "category         0\n",
      "longitude        0\n",
      "latitude         0\n",
      "dtype: int64\n"
     ]
    }
   ],
   "source": [
    "print(movement_data.isnull().sum())\n",
    "print(restaurant_data.isnull().sum())"
   ]
  },
  {
   "cell_type": "markdown",
   "metadata": {},
   "source": [
    "# Exploratory Data Analysis"
   ]
  },
  {
   "cell_type": "code",
   "execution_count": 18,
   "metadata": {},
   "outputs": [
    {
     "name": "stdout",
     "output_type": "stream",
     "text": [
      "10\n"
     ]
    }
   ],
   "source": [
    "# How many people\n",
    "print(len(movement_data.groupby('id')))"
   ]
  },
  {
   "cell_type": "code",
   "execution_count": 27,
   "metadata": {},
   "outputs": [
    {
     "name": "stdout",
     "output_type": "stream",
     "text": [
      "      datetime  longitude  latitude\n",
      "id                                 \n",
      "I000    526301     526301    526301\n",
      "I001    525745     525745    525745\n",
      "I002    526180     526180    526180\n",
      "I003    526591     526591    526591\n",
      "I004    526238     526238    526238\n",
      "I005    525837     525837    525837\n",
      "I006    526184     526184    526184\n",
      "I007    526330     526330    526330\n",
      "I008    526492     526492    526492\n",
      "I009    526170     526170    526170\n"
     ]
    }
   ],
   "source": [
    "# How many entries per person\n",
    "print(movement_data.groupby('id').count().head(10))"
   ]
  },
  {
   "cell_type": "code",
   "execution_count": 11,
   "metadata": {},
   "outputs": [],
   "source": [
    "# Haversine distance function (Earth radius in kilometers)\n",
    "def haversine(lon1, lat1, lon2, lat2):\n",
    "    R = 6371  # Radius of Earth in kilometers\n",
    "    lon1, lat1, lon2, lat2 = map(np.radians, [lon1, lat1, lon2, lat2])\n",
    "    dlon = lon2 - lon1\n",
    "    dlat = lat2 - lat1\n",
    "    a = np.sin(dlat/2)**2 + np.cos(lat1) * np.cos(lat2) * np.sin(dlon/2)**2\n",
    "    c = 2 * np.arcsin(np.sqrt(a))\n",
    "    return R * c"
   ]
  },
  {
   "cell_type": "code",
   "execution_count": 16,
   "metadata": {},
   "outputs": [
    {
     "name": "stdout",
     "output_type": "stream",
     "text": [
      "10\n"
     ]
    },
    {
     "data": {
      "image/png": "[encoded data removed]",
      "text/plain": [
       "<Figure size 800x500 with 1 Axes>"
      ]
     },
     "metadata": {},
     "output_type": "display_data"
    }
   ],
   "source": [
    "# Find which people move a lot\n",
    "centroid = movement_data.groupby('id').agg({'longitude': 'mean', 'latitude': 'mean'}).reset_index()\n",
    "centroid.columns = ['id', 'centroid_longitude', 'centroid_latitude']\n",
    "\n",
    "# Step 2: Merge centroid back to the original DataFrame\n",
    "merged_df = pd.merge(movement_data, centroid, on='id')\n",
    "\n",
    "\n",
    "# Create scatter plot\n",
    "plt.figure(figsize=(8, 5))  # Optional: set figure size\n",
    "plt.scatter(centroid['centroid_longitude'], centroid['centroid_latitude'], color='blue', marker='o', s=100, alpha=0.7)\n",
    "\n",
    "# Add title and labels\n",
    "plt.title('Sample Scatter Plot')\n",
    "plt.xlabel('X-axis Label')\n",
    "plt.ylabel('Y-axis Label')\n",
    "\n",
    "# Show grid\n",
    "plt.grid(True)\n",
    "\n",
    "# Display the plot\n",
    "plt.show()\n",
    "\n",
    "# Step 3: Calculate the distance from each movement to the centroid\n",
    "# merged_df['distance_from_centroid'] = merged_df.apply(\n",
    "#     lambda row: haversine(\n",
    "#         row['longitude'],\n",
    "#         row['latitude'],\n",
    "#         row['centroid_longitude'],\n",
    "#         row['centroid_latitude']\n",
    "#     ),\n",
    "#     axis=1\n",
    "# )"
   ]
  },
  {
   "cell_type": "code",
   "execution_count": null,
   "metadata": {},
   "outputs": [],
   "source": [
    "\n",
    "\n",
    "# Define a function to check if each movement is near a restaurant\n",
    "def is_near_restaurant(movement, restaurants, threshold_km=0.5):\n",
    "    # Ensure 'longitude' and 'latitude' exist in movement\n",
    "    if 'longitude' not in movement or 'latitude' not in movement:\n",
    "        raise ValueError(\"Movement must contain 'longitude' and 'latitude' keys.\")\n",
    "\n",
    "    # Iterate over the rows of the restaurants DataFrame\n",
    "    for index, restaurant in restaurants.iterrows():\n",
    "        # Calculate the distance using the haversine function\n",
    "        distance = haversine(movement['longitude'], movement['latitude'],\n",
    "                             restaurant['longitude'], restaurant['latitude'])\n",
    "        \n",
    "        # Check if the distance is within the threshold\n",
    "        if distance <= threshold_km:\n",
    "            return True, restaurant['restaurant_id']  # Return True and the restaurant ID\n",
    "\n",
    "    return False, None  # Return False and None if no nearby restaurant is found\n",
    "\n",
    "\n",
    "# Apply function to each movement and create a column indicating restaurant visits\n",
    "# movement_data['restaurant_id'] = movement_data.apply(\n",
    "#     lambda row: foo(count, row, restaurant_data), axis=1 \n",
    "# )\n",
    "for i in range(0, 100):\n",
    "    person_id = movement_data.head(1)['id']\n",
    "    print(f'{person_id}: {is_near_restaurant(movement_data.iloc[i], restaurant_data)[1]}')\n",
    "\n",
    "\n",
    "# Loop through each row in the movement DataFrame\n",
    "# for index, movement in movement_data.iterrows():\n",
    "#     is_near, restaurant_id = is_near_restaurant(movement, restaurant_data)\n",
    "#     print(f\"Movement ID: {movement['id']} - Is near a restaurant? {is_near}, Restaurant ID: {restaurant_id}\")"
   ]
  }
 ],
 "metadata": {
  "kernelspec": {
   "display_name": "base",
   "language": "python",
   "name": "python3"
  },
  "language_info": {
   "codemirror_mode": {
    "name": "ipython",
    "version": 3
   },
   "file_extension": ".py",
   "mimetype": "text/x-python",
   "name": "python",
   "nbconvert_exporter": "python",
   "pygments_lexer": "ipython3",
   "version": "3.12.4"
  }
 },
 "nbformat": 4,
 "nbformat_minor": 2
}
