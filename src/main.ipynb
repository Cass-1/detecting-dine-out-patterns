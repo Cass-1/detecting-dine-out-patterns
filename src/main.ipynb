{
 "cells": [
  {
   "cell_type": "code",
   "execution_count": 1,
   "metadata": {},
   "outputs": [],
   "source": [
    "import pandas as pd\n",
    "import folium\n",
    "import numpy as np\n",
    "import scipy\n",
    "from scipy import stats"
   ]
  },
  {
   "cell_type": "code",
   "execution_count": 2,
   "metadata": {},
   "outputs": [],
   "source": [
    "# Load your CSV data\n",
    "movement_data = pd.read_csv(\"../data/movements.csv\", parse_dates=[\"datetime\"])  # Replace with your file path\n",
    "restaurant_data = pd.read_csv(\"../data/restaurants.csv\")  # Replace with your file path"
   ]
  },
  {
   "cell_type": "markdown",
   "metadata": {},
   "source": [
    "# Clean Data"
   ]
  },
  {
   "cell_type": "code",
   "execution_count": null,
   "metadata": {},
   "outputs": [],
   "source": [
    "movement_data.columns = movement_data.columns.str.lower()\n",
    "restaurant_data.columns = restaurant_data.columns.str.lower()\n",
    "restaurant_data.rename(columns={'restaurant id': 'restaurant_id'}, inplace=True)\n",
    "\n",
    "print(movement_data.head())\n",
    "print(restaurant_data.head())\n",
    "\n"
   ]
  },
  {
   "cell_type": "code",
   "execution_count": null,
   "metadata": {},
   "outputs": [],
   "source": []
  },
  {
   "cell_type": "code",
   "execution_count": null,
   "metadata": {},
   "outputs": [],
   "source": [
    "print(movement_data.isnull().sum())\n",
    "print(restaurant_data.isnull().sum())"
   ]
  },
  {
   "cell_type": "markdown",
   "metadata": {},
   "source": [
    "# Exploratory Data Analysis"
   ]
  },
  {
   "cell_type": "code",
   "execution_count": null,
   "metadata": {},
   "outputs": [],
   "source": [
    "# Haversine distance function (Earth radius in kilometers)\n",
    "def haversine(lon1, lat1, lon2, lat2):\n",
    "    R = 6371  # Radius of Earth in kilometers\n",
    "    lon1, lat1, lon2, lat2 = map(np.radians, [lon1, lat1, lon2, lat2])\n",
    "    dlon = lon2 - lon1\n",
    "    dlat = lat2 - lat1\n",
    "    a = np.sin(dlat/2)**2 + np.cos(lat1) * np.cos(lat2) * np.sin(dlon/2)**2\n",
    "    c = 2 * np.arcsin(np.sqrt(a))\n",
    "    return R * c\n",
    "\n",
    "# Define a function to check if each movement is near a restaurant\n",
    "def is_near_restaurant(movement, restaurants, threshold_km=0.5):\n",
    "    # Ensure 'longitude' and 'latitude' exist in movement\n",
    "    if 'longitude' not in movement or 'latitude' not in movement:\n",
    "        raise ValueError(\"Movement must contain 'longitude' and 'latitude' keys.\")\n",
    "\n",
    "    # Iterate over the rows of the restaurants DataFrame\n",
    "    for index, restaurant in restaurants.iterrows():\n",
    "        # Calculate the distance using the haversine function\n",
    "        distance = haversine(movement['longitude'], movement['latitude'],\n",
    "                             restaurant['longitude'], restaurant['latitude'])\n",
    "        \n",
    "        # Check if the distance is within the threshold\n",
    "        if distance <= threshold_km:\n",
    "            return True, restaurant['restaurant_id']  # Return True and the restaurant ID\n",
    "\n",
    "    return False, None  # Return False and None if no nearby restaurant is found\n",
    "\n",
    "\n",
    "# Apply function to each movement and create a column indicating restaurant visits\n",
    "# movement_data['restaurant_id'] = movement_data.apply(\n",
    "#     lambda row: foo(count, row, restaurant_data), axis=1 \n",
    "# )\n",
    "print(is_near_restaurant(movement_data.iloc[12], restaurant_data)[1])\n",
    "\n",
    "\n",
    "# Loop through each row in the movement DataFrame\n",
    "# for index, movement in movement_data.iterrows():\n",
    "#     is_near, restaurant_id = is_near_restaurant(movement, restaurant_data)\n",
    "#     print(f\"Movement ID: {movement['id']} - Is near a restaurant? {is_near}, Restaurant ID: {restaurant_id}\")"
   ]
  }
 ],
 "metadata": {
  "kernelspec": {
   "display_name": "Python 3",
   "language": "python",
   "name": "python3"
  },
  "language_info": {
   "codemirror_mode": {
    "name": "ipython",
    "version": 3
   },
   "file_extension": ".py",
   "mimetype": "text/x-python",
   "name": "python",
   "nbconvert_exporter": "python",
   "pygments_lexer": "ipython3",
   "version": "3.11.10"
  }
 },
 "nbformat": 4,
 "nbformat_minor": 2
}
