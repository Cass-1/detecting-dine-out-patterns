{
 "cells": [
  {
   "cell_type": "markdown",
   "metadata": {},
   "source": [
    "# Get Data"
   ]
  },
  {
   "cell_type": "markdown",
   "metadata": {},
   "source": [
    "## Import and Read In"
   ]
  },
  {
   "cell_type": "code",
   "execution_count": null,
   "metadata": {},
   "outputs": [],
   "source": [
    "import pandas as pd\n",
    "import matplotlib.pyplot as plt\n",
    "import numpy as np\n",
    "from haversine import haversine_vector\n",
    "import seaborn as sns\n",
    "from IPython.display import display\n",
    "import folium\n",
    "from folium.plugins import HeatMap, FastMarkerCluster, MarkerCluster"
   ]
  },
  {
   "cell_type": "code",
   "execution_count": null,
   "metadata": {},
   "outputs": [],
   "source": [
    "def clean_restaurant_data(df):\n",
    "    df.columns = df.columns.str.lower()\n",
    "    df['longitude'] = df['longitude'] / 1000000 * -1\n",
    "    df['latitude'] = df['latitude'] / 1000000\n",
    "    return df\n",
    "\n",
    "# Load the data\n",
    "file_path = '../../data/real_movements.csv'\n",
    "movements_data = pd.read_csv(file_path, parse_dates=['datetime'])\n",
    "restaurant_data = pd.read_csv(\"../../data/real_restaurants.csv\")  # Replace with your file path\n",
    "visits_data = pd.read_csv(\"../../data/visits.csv\")\n",
    "restaurant_data = clean_restaurant_data(restaurant_data)"
   ]
  },
  {
   "cell_type": "markdown",
   "metadata": {},
   "source": [
    "## Distance"
   ]
  },
  {
   "cell_type": "code",
   "execution_count": null,
   "metadata": {},
   "outputs": [],
   "source": [
    "\n",
    "# Define functions\n",
    "def get_distance_between_rows(df):\n",
    "    \"\"\"\n",
    "    Calculate the Haversine distance between consecutive rows in a DataFrame (in kilometers)\n",
    "    Parameters:\n",
    "    df (pandas.DataFrame): DataFrame containing 'latitude' and 'longitude' columns.\n",
    "    Returns:\n",
    "    numpy.ndarray: Array of distances between consecutive rows.\n",
    "    \"\"\"\n",
    "    \n",
    "    coords1 = df[['latitude', 'longitude']].values[:-1]\n",
    "    coords2 = df[['latitude', 'longitude']].values[1:]\n",
    "    distances = haversine_vector(coords1, coords2, unit='m')  # Convert to meters\n",
    "    return distances\n",
    "\n",
    "# check\n",
    "def get_time_between_rows(df):\n",
    "    \"\"\"\n",
    "    Calculate the time difference between consecutive rows in a DataFrame (in hours)\n",
    "    Parameters:\n",
    "    df (pandas.DataFrame): DataFrame containing a 'datetime' column with date and time information.\n",
    "    Returns: numpy.ndarray: Array of time differences between consecutive rows.\n",
    "    \"\"\"\n",
    "\n",
    "    date = pd.to_datetime(df['datetime'])\n",
    "    datetime1 = date.values[:-1]\n",
    "    datetime2 = date.values[1:]\n",
    "    difference = (datetime2 - datetime1).astype('timedelta64[s]')\n",
    "    getHours = np.vectorize(lambda x: x / np.timedelta64(1, 'h'))\n",
    "    return getHours(difference)\n",
    "\n",
    "\n",
    "# get distance and time between each measurement\n",
    "grouped = movements_data.groupby('id')\n",
    "distance_dict = {}\n",
    "time_dict = {}\n",
    "midpoints_latitude_dict = {}\n",
    "midpoints_longitude_dict = {}\n",
    "\n",
    "for name, group in grouped:\n",
    "    distances = get_distance_between_rows(group)\n",
    "    times = get_time_between_rows(group)\n",
    "    distance_dict[name] = distances\n",
    "    time_dict[name] = times\n",
    "    midpoints_latitude = (group['latitude'].values[:-1] + group['latitude'].values[1:]) / 2\n",
    "    midpoints_longitude = (group['longitude'].values[:-1] + group['longitude'].values[1:]) / 2\n",
    "    midpoints_latitude_dict[name] = midpoints_latitude\n",
    "    midpoints_longitude_dict[name] = midpoints_longitude\n",
    "\n",
    "# replaces missing items w/ NaN\n",
    "distance_results = pd.DataFrame({ key:pd.Series(value) for key, value in distance_dict.items() })\n",
    "time_results = pd.DataFrame({ key:pd.Series(value) for key, value in time_dict.items() })"
   ]
  },
  {
   "cell_type": "markdown",
   "metadata": {},
   "source": [
    "## Velocity"
   ]
  },
  {
   "cell_type": "code",
   "execution_count": null,
   "metadata": {},
   "outputs": [],
   "source": [
    "# get velocity\n",
    "velocity_results = distance_results / time_results\n",
    "velocity_results.columns = [f'Velocity_{col}' for col in velocity_results.columns]\n",
    "\n",
    "# add midpoints data to velocity_results\n",
    "for name in midpoints_latitude_dict.keys():\n",
    "    velocity_results[f'Midpoint_Latitude_{name}'] = pd.Series(midpoints_latitude_dict[name])\n",
    "    velocity_results[f'Midpoint_Longitude_{name}'] = pd.Series(midpoints_longitude_dict[name])\n",
    "\n",
    "velocity_results.head()"
   ]
  },
  {
   "cell_type": "markdown",
   "metadata": {},
   "source": [
    "# GeoMaps"
   ]
  },
  {
   "cell_type": "markdown",
   "metadata": {},
   "source": [
    "## Restaurants"
   ]
  },
  {
   "cell_type": "code",
   "execution_count": null,
   "metadata": {},
   "outputs": [],
   "source": [
    "marker_cluster = MarkerCluster()\n",
    "restaurant_data.apply(lambda x: marker_cluster.add_child(folium.Marker(\n",
    "        location=[x['latitude'], x['longitude']],\n",
    "        popup=f\"{x['name']}\\n{x['category']}\",\n",
    "    )), axis=1)\n",
    "\n",
    "base_map = folium.Map(location=[restaurant_data['latitude'].mean(), restaurant_data['longitude'].mean()], zoom_start=12)\n",
    "base_map.add_child(marker_cluster)"
   ]
  },
  {
   "cell_type": "markdown",
   "metadata": {},
   "source": [
    "## Visits"
   ]
  },
  {
   "cell_type": "markdown",
   "metadata": {},
   "source": [
    "### Prep Visits Data"
   ]
  },
  {
   "cell_type": "code",
   "execution_count": null,
   "metadata": {},
   "outputs": [],
   "source": [
    "visits_data = visits_data.merge(restaurant_data[['restaurant id', 'latitude', 'longitude', 'category']], on='restaurant id', how='left')\n",
    "\n",
    "marker_colors = ['red', 'blue', 'green', 'purple', 'orange', 'darkred','lightred', 'beige', 'darkblue', 'darkgreen', 'cadetblue', 'darkpurple', 'white', 'pink', 'lightblue', 'lightgreen', 'gray', 'black', 'lightgray']\n",
    "# if (len(visits_data['category'].unique()) > marker_colors):\n",
    "#     raise Exception(\"not enough colors\")\n",
    "\n",
    "color_index = 0\n",
    "\n",
    "for item in visits_data['category'].unique():\n",
    "    visits_data.loc[visits_data['category'] == item, 'color'] = marker_colors[color_index]\n",
    "    color_index += 1"
   ]
  },
  {
   "cell_type": "markdown",
   "metadata": {},
   "source": [
    "### Person 121"
   ]
  },
  {
   "cell_type": "code",
   "execution_count": null,
   "metadata": {},
   "outputs": [],
   "source": [
    "person_121 = movements_data[movements_data['id'] == 121]\n",
    "visits_121 = visits_data[visits_data['id'] == 121]\n",
    "\n",
    "# Create a base map\n",
    "base_map = folium.Map(location=[person_121['latitude'].mean(), person_121['longitude'].mean()], zoom_start=12)\n",
    "\n",
    "# Extract the latitude and longitude data\n",
    "heat_data = person_121[['latitude', 'longitude']].dropna().values.tolist()\n",
    "\n",
    "# Add the heatmap layer\n",
    "HeatMap(heat_data).add_to(base_map)\n",
    "\n",
    "# Add clustered places as pins on the map\n",
    "for _, row in visits_121.iterrows():\n",
    "    folium.Marker(\n",
    "        location=[row['latitude'], row['longitude']],\n",
    "        popup=f\"Time: {row['start_time']} - {row['end_time']}\\n{row['category']}\",\n",
    "        icon=folium.Icon(color=row['color'])\n",
    "    ).add_to(base_map)\n",
    "\n",
    "# Display the map\n",
    "base_map\n"
   ]
  },
  {
   "cell_type": "markdown",
   "metadata": {},
   "source": [
    "### Person 125"
   ]
  },
  {
   "cell_type": "code",
   "execution_count": null,
   "metadata": {},
   "outputs": [],
   "source": [
    "visits_125 = visits_data[visits_data['id'] == 125]\n",
    "person_125 = movements_data[movements_data['id'] == 125]\n",
    "\n",
    "\n",
    "# Create a base map\n",
    "base_map = folium.Map(location=[person_125['latitude'].mean(), person_125['longitude'].mean()], zoom_start=12)\n",
    "\n",
    "# Extract the latitude and longitude data\n",
    "heat_data = person_125[['latitude', 'longitude']].dropna().values.tolist()\n",
    "\n",
    "# Add the heatmap layer\n",
    "HeatMap(heat_data).add_to(base_map)\n",
    "\n",
    "# Add clustered places as pins on the map\n",
    "visits_125.apply(lambda row: folium.Marker(\n",
    "        location=[row['latitude'], row['longitude']],\n",
    "        popup=f\"Time: {row['start_time']} - {row['end_time']}\\n{row['category']}\",\n",
    "        icon=folium.Icon(color=row['color'])\n",
    "    ).add_to(base_map), axis=1)\n",
    "    \n",
    "\n",
    "# Display the map\n",
    "base_map"
   ]
  },
  {
   "cell_type": "markdown",
   "metadata": {},
   "source": [
    "## Velocity"
   ]
  },
  {
   "cell_type": "markdown",
   "metadata": {},
   "source": [
    "### Person 121"
   ]
  },
  {
   "cell_type": "code",
   "execution_count": null,
   "metadata": {},
   "outputs": [],
   "source": [
    "velocity_results_121 = pd.DataFrame({\n",
    "    'latitude': velocity_results['Midpoint_Latitude_121'],\n",
    "    'longitude': velocity_results['Midpoint_Longitude_121'],\n",
    "    'velocity': velocity_results['Velocity_121']\n",
    "})\n",
    "velocity_results_121 = velocity_results_121.dropna(subset=['latitude', 'longitude', 'velocity'])\n",
    "# Create a base map centered at the mean latitude and longitude\n",
    "base_map = folium.Map(location=[velocity_results_121['latitude'].mean(), velocity_results_121['longitude'].mean()], zoom_start=12)\n",
    "\n",
    "# Prepare the data for the heatmap\n",
    "heat_data = velocity_results_121[['latitude', 'longitude', 'velocity']].values.tolist()\n",
    "\n",
    "# Add the heatmap layer\n",
    "HeatMap(heat_data, radius=15, blur=10, max_zoom=1).add_to(base_map)\n",
    "\n",
    "# Display the map\n",
    "base_map"
   ]
  },
  {
   "cell_type": "markdown",
   "metadata": {},
   "source": [
    "### Person 125"
   ]
  },
  {
   "cell_type": "code",
   "execution_count": null,
   "metadata": {},
   "outputs": [],
   "source": [
    "velocity_results_125 = pd.DataFrame({\n",
    "    'latitude': velocity_results['Midpoint_Latitude_125'],\n",
    "    'longitude': velocity_results['Midpoint_Longitude_125'],\n",
    "    'velocity': velocity_results['Velocity_125']\n",
    "})\n",
    "velocity_results_125 = velocity_results_125.dropna(subset=['latitude', 'longitude', 'velocity'])\n",
    "# Create a base map centered at the mean latitude and longitude\n",
    "base_map = folium.Map(location=[velocity_results_125['latitude'].mean(), velocity_results_125['longitude'].mean()], zoom_start=12)\n",
    "\n",
    "# Prepare the data for the heatmap\n",
    "heat_data = velocity_results_125[['latitude', 'longitude', 'velocity']].values.tolist()\n",
    "\n",
    "# Add the heatmap layer\n",
    "HeatMap(heat_data, radius=15, blur=10, max_zoom=1).add_to(base_map)\n",
    "\n",
    "# Display the map\n",
    "base_map"
   ]
  },
  {
   "cell_type": "markdown",
   "metadata": {},
   "source": [
    "# Rough Maps"
   ]
  },
  {
   "cell_type": "markdown",
   "metadata": {},
   "source": [
    "## Person 121"
   ]
  },
  {
   "cell_type": "code",
   "execution_count": null,
   "metadata": {},
   "outputs": [],
   "source": [
    "plt.figure(figsize=(10, 6))\n",
    "\n",
    "# Plot the restaurant locations\n",
    "\n",
    "plt.scatter(restaurant_data['longitude'], restaurant_data['latitude'], label='restaurants', color='red', marker='s', s=10, alpha=0.7)\n",
    "# Plot the person's path\n",
    "person_data = person_121.dropna(subset=['longitude', 'latitude'])\n",
    "plt.plot(person_data['longitude'], person_data['latitude'], label=f'Path of {121}', color='blue', alpha=0.6)\n",
    "\n",
    "# Add title and labels\n",
    "plt.title(f'{121}\\'s Path with Restaurant Locations')\n",
    "plt.xlabel('Longitude')\n",
    "plt.ylabel('Latitude')\n",
    "# plt.legend()\n",
    "plt.xticks(rotation=45)\n",
    "plt.grid(True)\n",
    "plt.show()\n",
    "# Count the number of visits to each location\n",
    "visit_counts = person_data.groupby(['longitude', 'latitude']).size().reset_index(name='counts')\n",
    "\n",
    "# Plot the restaurant locations with visit weights\n",
    "plt.figure(figsize=(10, 6))\n",
    "plt.scatter(restaurant_data['longitude'], restaurant_data['latitude'], label='restaurants', color='red', marker='s',s=10, alpha=0.7)\n",
    "plt.scatter(visit_counts['longitude'], visit_counts['latitude'], s=visit_counts['counts'], label=f'Path of {121}', color='blue', alpha=0.6)\n",
    "\n",
    "# Add title and labels\n",
    "plt.title(f'Restaurant Locations and {121}\\'s Path with Visit Weights')\n",
    "plt.xlabel('Longitude')\n",
    "plt.ylabel('Latitude')\n",
    "plt.legend()\n",
    "plt.xticks(rotation=45)\n",
    "plt.grid(True)\n",
    "plt.show()\n",
    "\n",
    "display(visit_counts.sort_values(by='counts', ascending=False).head(10))"
   ]
  },
  {
   "cell_type": "markdown",
   "metadata": {},
   "source": [
    "## Person 125"
   ]
  },
  {
   "cell_type": "code",
   "execution_count": null,
   "metadata": {},
   "outputs": [],
   "source": [
    "plt.figure(figsize=(10, 6))\n",
    "\n",
    "# FULL GRAPH\n",
    "plt.scatter(restaurant_data['longitude'], restaurant_data['latitude'], label='restaurants', color='red', marker='s', s=10, alpha=0.7)\n",
    "# Plot the person's path\n",
    "person_data = person_125.dropna(subset=['longitude', 'latitude'])\n",
    "\n",
    "# plot person's movement\n",
    "plt.plot(person_data['longitude'], person_data['latitude'], label=f'Path of {125}', color='blue', alpha=0.6)\n",
    "\n",
    "# add title and labels\n",
    "plt.title(f'{125}\\'s Path and R')\n",
    "plt.xlabel('Longitude')\n",
    "plt.ylabel('Latitude')\n",
    "# plt.legend()\n",
    "plt.xticks(rotation=45)\n",
    "plt.grid(True)\n",
    "plt.show()\n",
    "\n",
    "\n",
    "\n",
    "\n",
    "visit_counts = person_data.groupby(['longitude', 'latitude']).size().reset_index(name='counts')\n",
    "\n",
    "# Plot the restaurant locations with visit weights\n",
    "plt.figure(figsize=(10, 6))\n",
    "plt.scatter(restaurant_data['longitude'], restaurant_data['latitude'], label='restaurants', color='red', marker='s', alpha=0.7)\n",
    "plt.scatter(visit_counts['longitude'], visit_counts['latitude'], s=visit_counts['counts'], label=f'Path of {125}', color='blue', alpha=0.6)\n",
    "\n",
    "# Add title and labels\n",
    "plt.title(f'Restaurant Locations and {125}\\'s Path with Visit Weights')\n",
    "plt.xlabel('Longitude')\n",
    "plt.ylabel('Latitude')\n",
    "plt.legend()\n",
    "plt.xticks(rotation=45)\n",
    "plt.grid(True)\n",
    "plt.show()\n",
    "\n",
    "display(visit_counts.sort_values(by='counts', ascending=False).head(10))"
   ]
  },
  {
   "cell_type": "markdown",
   "metadata": {},
   "source": [
    "# Velocity Distribution"
   ]
  },
  {
   "cell_type": "code",
   "execution_count": null,
   "metadata": {},
   "outputs": [],
   "source": [
    "# Plot the histogram with logarithmic scaling\n",
    "sns.histplot(velocity_results['Velocity_121'], bins=100, log_scale=(True, False))\n",
    "\n",
    "# Add labels and title\n",
    "plt.xlabel(f' Velocity_121(km/h)')\n",
    "plt.ylabel('Frequency')\n",
    "plt.title(f'Distribution of Velocity_121')\n",
    "\n",
    "# Show the plot\n",
    "plt.show()\n",
    "\n",
    "    # Plot the histogram with logarithmic scaling\n",
    "sns.histplot(velocity_results['Velocity_125'], bins=100, log_scale=(True, False))\n",
    "\n",
    "# Add labels and title\n",
    "plt.xlabel(f' Velocity_125(km/h)')\n",
    "plt.ylabel('Frequency')\n",
    "plt.title(f'Distribution of Velocity_125')\n",
    "\n",
    "# Show the plot\n",
    "plt.show()"
   ]
  }
 ],
 "metadata": {
  "kernelspec": {
   "display_name": ".venv",
   "language": "python",
   "name": "python3"
  },
  "language_info": {
   "codemirror_mode": {
    "name": "ipython",
    "version": 3
   },
   "file_extension": ".py",
   "mimetype": "text/x-python",
   "name": "python",
   "nbconvert_exporter": "python",
   "pygments_lexer": "ipython3",
   "version": "3.12.7"
  }
 },
 "nbformat": 4,
 "nbformat_minor": 2
}
