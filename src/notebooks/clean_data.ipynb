{
 "cells": [
  {
   "cell_type": "markdown",
   "metadata": {},
   "source": [
    "### Nothing really to clean"
   ]
  },
  {
   "cell_type": "code",
   "execution_count": null,
   "metadata": {},
   "outputs": [],
   "source": [
    "import pandas as pd\n",
    "\n",
    "# Load the data\n",
    "file_path = '../../data/real_movements.csv'\n",
    "movements_data = pd.read_csv(file_path, parse_dates=['datetime'])\n",
    "restaurant_data = pd.read_csv(\"../../data/real_restaurants.csv\")  # Replace with your file path"
   ]
  },
  {
   "cell_type": "code",
   "execution_count": null,
   "metadata": {},
   "outputs": [],
   "source": [
    "print(movements_data.isnull().sum())"
   ]
  },
  {
   "cell_type": "code",
   "execution_count": null,
   "metadata": {},
   "outputs": [],
   "source": [
    "# Remove duplicate rows\n",
    "movements_data_cleaned = movements_data.drop_duplicates()\n",
    "\n",
    "# Check if any rows were dropped\n",
    "rows_dropped = len(movements_data) - len(movements_data_cleaned)\n",
    "print(f\"Number of rows dropped: {rows_dropped}\")\n"
   ]
  },
  {
   "cell_type": "code",
   "execution_count": null,
   "metadata": {},
   "outputs": [],
   "source": [
    "def clean_restaurant_data(df):\n",
    "    df.columns = df.columns.str.lower()\n",
    "    df['longitude'] = df['longitude'] / 1000000 * -1\n",
    "    df['latitude'] = df['latitude'] / 1000000\n",
    "    return df\n",
    "\n",
    "restaurant_data = clean_restaurant_data(restaurant_data)"
   ]
  }
 ],
 "metadata": {
  "kernelspec": {
   "display_name": ".venv",
   "language": "python",
   "name": "python3"
  },
  "language_info": {
   "codemirror_mode": {
    "name": "ipython",
    "version": 3
   },
   "file_extension": ".py",
   "mimetype": "text/x-python",
   "name": "python",
   "nbconvert_exporter": "python",
   "pygments_lexer": "ipython3",
   "version": "3.12.7"
  }
 },
 "nbformat": 4,
 "nbformat_minor": 2
}
