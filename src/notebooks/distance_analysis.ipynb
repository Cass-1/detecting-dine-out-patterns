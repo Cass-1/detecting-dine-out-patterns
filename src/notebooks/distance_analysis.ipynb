{
 "cells": [
  {
   "cell_type": "markdown",
   "metadata": {},
   "source": [
    "# Imports and Data File"
   ]
  },
  {
   "cell_type": "code",
   "execution_count": null,
   "metadata": {},
   "outputs": [],
   "source": [
    "import sys\n",
    "import pandas as pd\n",
    "import matplotlib.pyplot as plt\n",
    "import numpy as np\n",
    "from haversine import haversine_vector"
   ]
  },
  {
   "cell_type": "code",
   "execution_count": null,
   "metadata": {},
   "outputs": [],
   "source": [
    "file_path = '../../data/movements.csv'\n",
    "movements_data = pd.read_csv(file_path, parse_dates=['datetime'])"
   ]
  },
  {
   "cell_type": "markdown",
   "metadata": {},
   "source": [
    "# Functions"
   ]
  },
  {
   "cell_type": "markdown",
   "metadata": {},
   "source": [
    "# Distance Analysis"
   ]
  },
  {
   "cell_type": "code",
   "execution_count": null,
   "metadata": {},
   "outputs": [],
   "source": [
    "summary_statistics = pd.DataFrame()\n",
    "pd.Series(distance_results.apply(lambda x: np.mean(x)))"
   ]
  },
  {
   "cell_type": "code",
   "execution_count": null,
   "metadata": {},
   "outputs": [],
   "source": [
    "distance_results.apply(lambda x: np.nanmedian(x))"
   ]
  },
  {
   "cell_type": "code",
   "execution_count": null,
   "metadata": {},
   "outputs": [],
   "source": [
    "distance_results.apply(lambda x: np.max(x))"
   ]
  },
  {
   "cell_type": "code",
   "execution_count": null,
   "metadata": {},
   "outputs": [],
   "source": [
    "import sys\n",
    "import pandas as pd\n",
    "import matplotlib.pyplot as plt\n",
    "import numpy as np\n",
    "from haversine import haversine_vector\n",
    "\n",
    "# Load the data\n",
    "file_path = '../../data/movements.csv'\n",
    "movements_data = pd.read_csv(file_path, parse_dates=['datetime'])\n",
    "\n",
    "# Define functions\n",
    "def get_distance_between_rows(df):\n",
    "    coords1 = df[['latitude', 'longitude']].values[:-1]\n",
    "    coords2 = df[['latitude', 'longitude']].values[1:]\n",
    "    distances = haversine_vector(coords1, coords2)\n",
    "    return distances\n",
    "\n",
    "# check\n",
    "def get_time_between_rows(df):\n",
    "    date = pd.to_datetime(df['datetime'])\n",
    "    coords1 = date.values[:-1]\n",
    "    coords2 = date.values[1:]\n",
    "    return (coords2 - coords1)\n",
    "\n",
    "# Calculate distances and times\n",
    "distance_results = pd.DataFrame()\n",
    "time_results = pd.DataFrame()\n",
    "grouped = movements_data.groupby('id')\n",
    "\n",
    "for name, group in grouped:\n",
    "    distances = (get_distance_between_rows(group)) # Convert to meters\n",
    "    times = get_time_between_rows(group)\n",
    "    distance_results[name] = pd.Series(distances)\n",
    "    time_results[name] = pd.Series(times)\n",
    "\n",
    "# Perform element-wise division\n",
    "velocity_results = distance_results / time_results\n",
    "velocity_results.columns = [f'Velocity_{col}' for col in velocity_results.columns]\n",
    "\n",
    "# Display the first 10 rows of the velocity_results DataFrame\n",
    "print(velocity_results.head(10))\n",
    "\n",
    "for col in velocity_results.columns:\n",
    "    plt.figure(figsize=(15, 10))\n",
    "    plt.plot(velocity_results.index, velocity_results[col], marker='o', linestyle='-', label=col)\n",
    "    \n",
    "    # Add labels and title\n",
    "    plt.xlabel('Index')\n",
    "    plt.ylabel('Velocity (m/s)')\n",
    "    plt.title(f'Velocity Over Time for {col}')\n",
    "    plt.legend()\n",
    "    \n",
    "    # Show the plot\n",
    "    plt.show()"
   ]
  },
  {
   "cell_type": "code",
   "execution_count": null,
   "metadata": {},
   "outputs": [],
   "source": [
    "# Calculate distances and times\n",
    "distance_results = pd.DataFrame()\n",
    "time_results = pd.DataFrame()\n",
    "grouped = movements_data.groupby('id')\n",
    "\n",
    "for name, group in grouped:\n",
    "    distances = (get_distance_between_rows(group))\n",
    "    times = get_time_between_rows(group)\n",
    "    distance_results[name] = pd.Series(distances)\n",
    "    time_results[name] = pd.Series(times)\n",
    "\n",
    "# Perform element-wise division\n",
    "velocity_results = distance_results / time_results\n",
    "velocity_results.columns = [f'Velocity_{col}' for col in velocity_results.columns]\n",
    "\n",
    "# Display the first 10 rows of the velocity_results DataFrame\n",
    "print(velocity_results.head(10))\n",
    "\n",
    "# Plot the velocity results for each id in separate graphs with downsampling and rolling averages\n",
    "for col in velocity_results.columns:\n",
    "    plt.figure(figsize=(15, 10))\n",
    "    \n",
    "    # Downsample by plotting every 1000th point\n",
    "    downsampled_data = velocity_results[col].iloc[::5000]\n",
    "    \n",
    "    # Calculate rolling average with a window of 1000 points\n",
    "    rolling_avg = velocity_results[col].rolling(window=1000).mean()\n",
    "    \n",
    "    plt.plot(downsampled_data.index, downsampled_data, marker='o', linestyle='-', label=f'{col} (Downsampled)')\n",
    "    plt.plot(rolling_avg.index, rolling_avg, linestyle='-', color='red', label=f'{col} (Rolling Avg)')\n",
    "    \n",
    "    # Add labels and title\n",
    "    plt.xlabel('Index')\n",
    "    plt.ylabel('Velocity (m/s)')\n",
    "    plt.title(f'Velocity Over Time for {col}')\n",
    "    plt.legend()\n",
    "    \n",
    "    # Show the plot\n",
    "    plt.show()"
   ]
  },
  {
   "cell_type": "code",
   "execution_count": null,
   "metadata": {},
   "outputs": [],
   "source": [
    "\n",
    "\n",
    "# Find how often values of less than 1 occur\n",
    "less_than_one_counts = (velocity_results < 1).sum()\n",
    "\n",
    "# Display the counts\n",
    "print(less_than_one_counts)"
   ]
  }
 ],
 "metadata": {
  "kernelspec": {
   "display_name": ".venv",
   "language": "python",
   "name": "python3"
  },
  "language_info": {
   "codemirror_mode": {
    "name": "ipython",
    "version": 3
   },
   "file_extension": ".py",
   "mimetype": "text/x-python",
   "name": "python",
   "nbconvert_exporter": "python",
   "pygments_lexer": "ipython3",
   "version": "3.12.7"
  }
 },
 "nbformat": 4,
 "nbformat_minor": 2
}
