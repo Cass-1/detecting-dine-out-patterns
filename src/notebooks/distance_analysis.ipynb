{
 "cells": [
  {
   "cell_type": "markdown",
   "metadata": {},
   "source": [
    "# Imports and Data File"
   ]
  },
  {
   "cell_type": "code",
   "execution_count": null,
   "metadata": {},
   "outputs": [],
   "source": [
    "import sys\n",
    "import pandas as pd\n",
    "import matplotlib.pyplot as plt\n",
    "import numpy as np\n",
    "\n",
    "sys.path.insert(0, '/workspaces/detecting-dine-out-patterns/src')\n",
    "from util.distance import (\n",
    "    average_distance_between_rows,\n",
    "    median_distance_between_rows,\n",
    "    max_distance_between_rows,\n",
    "    timestamps_of_max_distance,\n",
    "    longest_stretch_not_moving,\n",
    "    get_distance_between_rows\n",
    ")"
   ]
  },
  {
   "cell_type": "code",
   "execution_count": null,
   "metadata": {},
   "outputs": [],
   "source": [
    "file_path = '../../data/movements.csv'\n",
    "movements_data = pd.read_csv(file_path, parse_dates=['datetime'])"
   ]
  },
  {
   "cell_type": "markdown",
   "metadata": {},
   "source": [
    "# Distance Analysis"
   ]
  },
  {
   "cell_type": "code",
   "execution_count": null,
   "metadata": {},
   "outputs": [],
   "source": [
    "\"\"\"\n",
    "This block performs distance analysis on movement data grouped by 'id'.\n",
    "\"\"\"\n",
    "\n",
    "results = []\n",
    "grouped = movements_data.groupby('id')\n",
    "\n",
    "for name, group in grouped:\n",
    "    avg_distance = average_distance_between_rows(group)\n",
    "    med_distance = median_distance_between_rows(group)\n",
    "    max_distance = max_distance_between_rows(group)\n",
    "    timestamp1, timestamp2 = timestamps_of_max_distance(group)\n",
    "    not_moving_time1, not_moving_time2 = longest_stretch_not_moving(group, 1)\n",
    "\n",
    "    results.append({\n",
    "        'id': name, \n",
    "        'avg_distance': avg_distance, \n",
    "        'med_distance': med_distance, \n",
    "        'max_distance': max_distance, \n",
    "        'max_distance time1': timestamp1, \n",
    "        'max_distance time2': timestamp2,\n",
    "        'not moving time 1': not_moving_time1,\n",
    "        'not moving time 2': not_moving_time2\n",
    "    })\n",
    "\n",
    "results_df = pd.DataFrame(results)\n",
    "results_df.head(10)\n"
   ]
  },
  {
   "cell_type": "code",
   "execution_count": null,
   "metadata": {},
   "outputs": [],
   "source": [
    "results = pd.DataFrame()\n",
    "grouped = movements_data.groupby('id')\n",
    "\n",
    "for name, group in grouped:\n",
    "    distances = (get_distance_between_rows(group)*1000).round(0)\n",
    "    results[name] = pd.Series(distances)\n",
    "\n",
    "results.head(10)\n"
   ]
  },
  {
   "cell_type": "code",
   "execution_count": null,
   "metadata": {},
   "outputs": [],
   "source": [
    "summary_statistics = pd.DataFrame()\n",
    "pd.Series(results.apply(lambda x: np.mean(x)))"
   ]
  },
  {
   "cell_type": "code",
   "execution_count": null,
   "metadata": {},
   "outputs": [],
   "source": [
    "results.apply(lambda x: np.nanmedian(x))"
   ]
  },
  {
   "cell_type": "code",
   "execution_count": null,
   "metadata": {},
   "outputs": [],
   "source": [
    "results.apply(lambda x: np.max(x))"
   ]
  }
 ],
 "metadata": {
  "kernelspec": {
   "display_name": ".venv",
   "language": "python",
   "name": "python3"
  },
  "language_info": {
   "codemirror_mode": {
    "name": "ipython",
    "version": 3
   },
   "file_extension": ".py",
   "mimetype": "text/x-python",
   "name": "python",
   "nbconvert_exporter": "python",
   "pygments_lexer": "ipython3",
   "version": "3.12.7"
  }
 },
 "nbformat": 4,
 "nbformat_minor": 2
}
