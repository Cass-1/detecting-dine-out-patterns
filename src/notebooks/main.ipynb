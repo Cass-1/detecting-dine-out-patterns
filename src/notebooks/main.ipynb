{
 "cells": [
  {
   "cell_type": "code",
   "execution_count": 1,
   "metadata": {},
   "outputs": [],
   "source": [
    "import pandas as pd\n",
    "import numpy as np\n",
    "import seaborn as sns\n",
    "import matplotlib.pyplot as plt\n",
    "import os\n",
    "from datetime import datetime, date"
   ]
  },
  {
   "cell_type": "code",
   "execution_count": 2,
   "metadata": {},
   "outputs": [],
   "source": [
    "# Load your CSV data\n",
    "# movement_data = pd.read_csv(r\"C:\\Users\\leeda\\OneDrive - Washington State University (email.wsu.edu)\\detecting-dine-out-patterns\\data\\movements.csv\", parse_dates=[\"datetime\"])  # Replace with your file path\n",
    "# restaurant_data = pd.read_csv(r\"C:\\Users\\leeda\\OneDrive - Washington State University (email.wsu.edu)\\detecting-dine-out-patterns\\data\\restaurants.csv\")  # Replace with your file path\n",
    "movement_data = pd.read_csv(\"../../data/movements.csv\", parse_dates=[\"datetime\"])  # Replace with your file path\n",
    "restaurant_data = pd.read_csv(\"../../data/restaurants.csv\")  # Replace with your file path"
   ]
  },
  {
   "cell_type": "markdown",
   "metadata": {},
   "source": [
    "# Clean Data"
   ]
  },
  {
   "cell_type": "code",
   "execution_count": 3,
   "metadata": {},
   "outputs": [
    {
     "name": "stdout",
     "output_type": "stream",
     "text": [
      "             datetime    id   longitude   latitude\n",
      "0 2020-01-01 00:00:00  I000 -122.335167  47.608013\n",
      "1 2020-01-01 00:01:07  I000 -122.335166  47.608462\n",
      "2 2020-01-01 00:01:37  I000 -122.335167  47.608432\n",
      "3 2020-01-01 00:02:35  I000 -122.335166  47.608682\n",
      "4 2020-01-01 00:04:05  I000 -122.335166  47.608841\n",
      "  restaurant_id                   name  \\\n",
      "0          R000   Pullman Quick Stop 0   \n",
      "1          R001   Pullman Quick Stop 1   \n",
      "2          R002   Pullman Department 2   \n",
      "3          R003    Pullman Groceries 3   \n",
      "4          R004  Pullman Supercenter 4   \n",
      "\n",
      "                                            category   longitude   latitude  \n",
      "0                                 Convenience Stores -122.435908  47.621564  \n",
      "1                                 Convenience Stores -122.297377  47.649300  \n",
      "2                                  Department Stores -122.338057  47.666842  \n",
      "3  Supermarkets/Other Grocery (Exc Convenience) Strs -122.242926  47.587846  \n",
      "4                     Warehouse Clubs & Supercenters -122.297103  47.534843  \n"
     ]
    }
   ],
   "source": [
    "movement_data.columns = movement_data.columns.str.lower()\n",
    "restaurant_data.columns = restaurant_data.columns.str.lower()\n",
    "restaurant_data.rename(columns={'restaurant id': 'restaurant_id'}, inplace=True)\n",
    "\n",
    "# for n in movement_data:\n",
    "#     movement_data[\"time\"] = movement_data[\"datetime\"].str.split(\" \")\n",
    "#print(movement_data.dtypes)\n",
    "\n",
    "print(movement_data.head())\n",
    "print(restaurant_data.head())\n",
    "\n"
   ]
  },
  {
   "cell_type": "code",
   "execution_count": 4,
   "metadata": {},
   "outputs": [
    {
     "name": "stdout",
     "output_type": "stream",
     "text": [
      "datetime     0\n",
      "id           0\n",
      "longitude    0\n",
      "latitude     0\n",
      "dtype: int64\n",
      "restaurant_id    0\n",
      "name             0\n",
      "category         0\n",
      "longitude        0\n",
      "latitude         0\n",
      "dtype: int64\n"
     ]
    }
   ],
   "source": [
    "print(movement_data.isnull().sum())\n",
    "print(restaurant_data.isnull().sum())"
   ]
  },
  {
   "cell_type": "markdown",
   "metadata": {},
   "source": [
    "# Exploratory Data Analysis"
   ]
  },
  {
   "cell_type": "markdown",
   "metadata": {},
   "source": [
    "## How many people"
   ]
  },
  {
   "cell_type": "code",
   "execution_count": 5,
   "metadata": {},
   "outputs": [
    {
     "name": "stdout",
     "output_type": "stream",
     "text": [
      "10\n"
     ]
    }
   ],
   "source": [
    "print(len(movement_data.groupby('id')))"
   ]
  },
  {
   "cell_type": "markdown",
   "metadata": {},
   "source": [
    "## Entries per person"
   ]
  },
  {
   "cell_type": "code",
   "execution_count": 6,
   "metadata": {},
   "outputs": [
    {
     "name": "stdout",
     "output_type": "stream",
     "text": [
      "id\n",
      "I000    526301\n",
      "I001    525745\n",
      "I002    526180\n",
      "I003    526591\n",
      "I004    526238\n",
      "I005    525837\n",
      "I006    526184\n",
      "I007    526330\n",
      "I008    526492\n",
      "I009    526170\n",
      "Name: datetime, dtype: int64\n"
     ]
    }
   ],
   "source": [
    "print(movement_data.groupby('id')['datetime'].count().head(10))"
   ]
  },
  {
   "cell_type": "markdown",
   "metadata": {},
   "source": [
    "## Graphs of People's Centeral Location"
   ]
  },
  {
   "cell_type": "markdown",
   "metadata": {},
   "source": [
    "### Haverstine function"
   ]
  },
  {
   "cell_type": "code",
   "execution_count": 7,
   "metadata": {},
   "outputs": [],
   "source": [
    "# Haversine distance function (Earth radius in kilometers)\n",
    "def haversine(lon1, lat1, lon2, lat2):\n",
    "    R = 6371  # Radius of Earth in kilometers\n",
    "    lon1, lat1, lon2, lat2 = map(np.radians, [lon1, lat1, lon2, lat2])\n",
    "    dlon = lon2 - lon1\n",
    "    dlat = lat2 - lat1\n",
    "    a = np.sin(dlat/2)**2 + np.cos(lat1) * np.cos(lat2) * np.sin(dlon/2)**2\n",
    "    c = 2 * np.arcsin(np.sqrt(a))\n",
    "    return R * c"
   ]
  },
  {
   "cell_type": "markdown",
   "metadata": {},
   "source": [
    "### Graphs"
   ]
  },
  {
   "cell_type": "code",
   "execution_count": 8,
   "metadata": {},
   "outputs": [],
   "source": [
    "centroid = movement_data.groupby('id').agg({'longitude': 'mean', 'latitude': 'mean'}).reset_index()\n",
    "centroid.columns = ['id', 'centroid_longitude', 'centroid_latitude']"
   ]
  },
  {
   "cell_type": "code",
   "execution_count": 9,
   "metadata": {},
   "outputs": [
    {
     "data": {
      "image/png": "[encoded data removed]",
      "text/plain": [
       "<Figure size 800x500 with 1 Axes>"
      ]
     },
     "metadata": {},
     "output_type": "display_data"
    }
   ],
   "source": [
    "# Create scatter plot\n",
    "plt.figure(figsize=(8, 5)) \n",
    "plt.scatter(centroid['centroid_longitude'], centroid['centroid_latitude'],label='people', color='blue', marker='o', s=100, alpha=0.7)\n",
    "\n",
    "# Add title and labels\n",
    "plt.title('Centeroid Points of People')\n",
    "plt.xlabel('Longitude')\n",
    "plt.ylabel('Latitude')\n",
    "\n",
    "# Show grid\n",
    "plt.grid(True)\n",
    "\n",
    "# Display the plot\n",
    "plt.show()"
   ]
  },
  {
   "cell_type": "code",
   "execution_count": 10,
   "metadata": {},
   "outputs": [
    {
     "data": {
      "image/png": "[encoded data removed]",
      "text/plain": [
       "<Figure size 640x480 with 1 Axes>"
      ]
     },
     "metadata": {},
     "output_type": "display_data"
    }
   ],
   "source": [
    "plt.scatter(centroid['centroid_longitude'], centroid['centroid_latitude'],label='People', color='blue', marker='o', s=100, alpha=0.7)\n",
    "plt.scatter(restaurant_data['longitude'], restaurant_data['latitude'],label='Restaurants', color='red', marker='s', s=100, alpha=0.7)\n",
    "\n",
    "# Add title and labels\n",
    "plt.title('Centroid Points of People and Restaurant Locations')\n",
    "plt.xlabel('Longitude')\n",
    "plt.ylabel('Latitude')\n",
    "plt.legend()\n",
    "plt.xticks(rotation=45)\n",
    "plt.grid(True)\n",
    "plt.show()\n"
   ]
  },
  {
   "cell_type": "markdown",
   "metadata": {},
   "source": [
    "## Paths"
   ]
  },
  {
   "cell_type": "code",
   "execution_count": 11,
   "metadata": {},
   "outputs": [
    {
     "data": {
      "text/html": [
       "<div>\n",
       "<style scoped>\n",
       "    .dataframe tbody tr th:only-of-type {\n",
       "        vertical-align: middle;\n",
       "    }\n",
       "\n",
       "    .dataframe tbody tr th {\n",
       "        vertical-align: top;\n",
       "    }\n",
       "\n",
       "    .dataframe thead th {\n",
       "        text-align: right;\n",
       "    }\n",
       "</style>\n",
       "<table border=\"1\" class=\"dataframe\">\n",
       "  <thead>\n",
       "    <tr style=\"text-align: right;\">\n",
       "      <th></th>\n",
       "      <th>datetime</th>\n",
       "      <th>id</th>\n",
       "      <th>longitude</th>\n",
       "      <th>latitude</th>\n",
       "    </tr>\n",
       "  </thead>\n",
       "  <tbody>\n",
       "    <tr>\n",
       "      <th>0</th>\n",
       "      <td>2020-01-01 00:00:00</td>\n",
       "      <td>I000</td>\n",
       "      <td>-122.335167</td>\n",
       "      <td>47.608013</td>\n",
       "    </tr>\n",
       "    <tr>\n",
       "      <th>1</th>\n",
       "      <td>2020-01-01 00:01:07</td>\n",
       "      <td>I000</td>\n",
       "      <td>-122.335166</td>\n",
       "      <td>47.608462</td>\n",
       "    </tr>\n",
       "    <tr>\n",
       "      <th>2</th>\n",
       "      <td>2020-01-01 00:01:37</td>\n",
       "      <td>I000</td>\n",
       "      <td>-122.335167</td>\n",
       "      <td>47.608432</td>\n",
       "    </tr>\n",
       "    <tr>\n",
       "      <th>3</th>\n",
       "      <td>2020-01-01 00:02:35</td>\n",
       "      <td>I000</td>\n",
       "      <td>-122.335166</td>\n",
       "      <td>47.608682</td>\n",
       "    </tr>\n",
       "    <tr>\n",
       "      <th>4</th>\n",
       "      <td>2020-01-01 00:04:05</td>\n",
       "      <td>I000</td>\n",
       "      <td>-122.335166</td>\n",
       "      <td>47.608841</td>\n",
       "    </tr>\n",
       "  </tbody>\n",
       "</table>\n",
       "</div>"
      ],
      "text/plain": [
       "             datetime    id   longitude   latitude\n",
       "0 2020-01-01 00:00:00  I000 -122.335167  47.608013\n",
       "1 2020-01-01 00:01:07  I000 -122.335166  47.608462\n",
       "2 2020-01-01 00:01:37  I000 -122.335167  47.608432\n",
       "3 2020-01-01 00:02:35  I000 -122.335166  47.608682\n",
       "4 2020-01-01 00:04:05  I000 -122.335166  47.608841"
      ]
     },
     "execution_count": 11,
     "metadata": {},
     "output_type": "execute_result"
    }
   ],
   "source": [
    "person1 = movement_data[movement_data['id'] == 'I000']\n",
    "person1.head()"
   ]
  },
  {
   "cell_type": "markdown",
   "metadata": {},
   "source": [
    "## Average Time Between Measurements"
   ]
  },
  {
   "cell_type": "code",
   "execution_count": 12,
   "metadata": {},
   "outputs": [
    {
     "name": "stdout",
     "output_type": "stream",
     "text": [
      "0 days 00:00:59.980084442\n"
     ]
    }
   ],
   "source": [
    "movement_data['timestamp'] = pd.to_datetime(movement_data['datetime'])\n",
    "\n",
    "# Calculate time differences\n",
    "time_diffs = movement_data['timestamp'].diff()\n",
    "\n",
    "# Compute the average time difference\n",
    "average_time_diff = time_diffs.mean()\n",
    "\n",
    "print(average_time_diff)"
   ]
  },
  {
   "cell_type": "markdown",
   "metadata": {},
   "source": [
    "## People's Visits to Restaurants"
   ]
  },
  {
   "cell_type": "code",
   "execution_count": 29,
   "metadata": {},
   "outputs": [],
   "source": [
    "movement_data = pd.read_csv(\"../../data/real_movements.csv\", parse_dates=[\"datetime\"])  # Replace with your file path\n",
    "restaurant_data = pd.read_csv(\"../../data/real_restaurants.csv\")  # Replace with your file path\n",
    "\n",
    "movement_data.columns = movement_data.columns.str.lower()\n",
    "restaurant_data.columns = restaurant_data.columns.str.lower()\n",
    "restaurant_data.rename(columns={'restaurant id': 'restaurant_id'}, inplace=True)\n",
    "\n",
    "def clean_restaurant_data(df):\n",
    "    df.columns = df.columns.str.lower()\n",
    "    df['longitude'] = df['longitude'] / 1000000 * -1\n",
    "    df['latitude'] = df['latitude'] / 1000000\n",
    "    return df\n",
    "\n",
    "restaurant_data = clean_restaurant_data(restaurant_data)"
   ]
  },
  {
   "cell_type": "code",
   "execution_count": null,
   "metadata": {},
   "outputs": [],
   "source": [
    "# Define a function to check if each movement is near a restaurant\n",
    "def is_near_restaurant(movement, restaurants, threshold_km, threshold_time):\n",
    "    # Ensure 'longitude' and 'latitude' exist in movement\n",
    "    if 'longitude' not in movement or 'latitude' not in movement:\n",
    "        raise ValueError(\"Movement must contain 'longitude' and 'latitude' keys.\")\n",
    "    \n",
    "    list1 = []\n",
    "    list2 = []\n",
    "    list3 = []\n",
    "    list4 = []\n",
    "    list5 = []\n",
    "    list6 = []\n",
    "    list7 = []\n",
    "    list8 = []\n",
    "\n",
    "    i = 0\n",
    "    # Iterate over the rows of the restaurants DataFrame\n",
    "    for index, restaurant in restaurants.iterrows():\n",
    "        # Calculate the distance using the haversine function\n",
    "        distance = haversine(movement['longitude'], movement['latitude'], restaurant['longitude'], restaurant['latitude'])\n",
    "        \n",
    "        # Check if the distance is within the threshold\n",
    "        n = 0\n",
    "        within_restaurant = False\n",
    "        for dist in distance:\n",
    "            if not within_restaurant and dist <= threshold_km:\n",
    "                list1.append(movement.loc[n, 'id']) \n",
    "                list2.append(movement.loc[n, 'datetime']) \n",
    "                list3.append(restaurant['restaurant_id']) \n",
    "                list4.append(dist)\n",
    "                within_restaurant = True\n",
    "            elif within_restaurant and dist > threshold_km:\n",
    "                list5.append(movement.loc[n, 'id']) \n",
    "                list6.append(movement.loc[n, 'datetime']) \n",
    "                list7.append(restaurant['restaurant_id']) \n",
    "                list8.append(dist)\n",
    "                within_restaurant = False\n",
    "            n+=1\n",
    "    \n",
    "    dict1 = {'id':list1, 'datetime':list2, 'restaurant_id':list3, 'distance':list4}\n",
    "    dict2 = {'id':list5, 'datetime':list6, 'restaurant_id':list7, 'distance':list8}\n",
    "    start_times = pd.DataFrame(dict1)\n",
    "    end_times = pd.DataFrame(dict2)\n",
    "\n",
    "    list9 = []\n",
    "    list10 = []\n",
    "    list11 = []\n",
    "    list12 = []\n",
    "    list13 = []\n",
    "    list14 = []\n",
    "    start_times['time'] = pd.to_datetime(start_times['datetime']).dt.time\n",
    "    end_times['time'] = pd.to_datetime(end_times['datetime']).dt.time\n",
    "    start_times['date'] = pd.to_datetime(start_times['datetime']).dt.date\n",
    "    end_times['date'] = pd.to_datetime(end_times['datetime']).dt.date\n",
    "    for (index1, start), (index2, end) in zip(start_times.iterrows(), end_times.iterrows()):\n",
    "       car = datetime.combine(date.today(), end['time']) - datetime.combine(date.today(), start['time'])\n",
    "       sec = int(car.total_seconds())\n",
    "       if sec >= threshold_time:\n",
    "           list9.append(start_times.loc[index1, 'id'])\n",
    "           list10.append(start_times.loc[index1, 'restaurant_id'])\n",
    "           list11.append(start_times.loc[index1, 'date'])\n",
    "           list12.append(start_times.loc[index1, 'time'])\n",
    "           list13.append(end_times.loc[index2, 'time'])\n",
    "           list14.append(sec)\n",
    "\n",
    "    dict3 = {'id':list9, 'restaurant_id':list10, 'date':list11, 'start_time':list12, 'end_time':list13, 'total_time(seconds)':list14}\n",
    "    final = pd.DataFrame(dict3)\n",
    "\n",
    "    # return False, None  # Return False and None if no nearby restaurant is found\n",
    "    return final\n",
    "x = is_near_restaurant(movement_data, restaurant_data, 0.01, 300)\n",
    "print(x.head())\n",
    "print(len(x.index))\n",
    "\n",
    "\n",
    "\n"
   ]
  },
  {
   "cell_type": "code",
   "execution_count": 30,
   "metadata": {},
   "outputs": [
    {
     "name": "stdout",
     "output_type": "stream",
     "text": [
      "    id  restaurant_id        date start_time  end_time  total_time(seconds)\n",
      "0  121      579571910  2017-12-27   01:04:57  01:10:41                  344\n",
      "1  121      579571910  2017-12-27   02:38:45  02:56:41                 1076\n",
      "2  121      579571910  2018-03-03   02:40:19  02:47:23                  424\n",
      "3  125      529551798  2021-05-28   19:34:07  19:40:44                  397\n",
      "4  125      529551798  2021-05-28   19:51:53  21:10:05                 4692\n",
      "88\n"
     ]
    }
   ],
   "source": [
    "# Define a function to check if each movement is near a restaurant\n",
    "def is_near_restaurant(movement, restaurants, threshold_km, threshold_time):\n",
    "    # Ensure 'longitude' and 'latitude' exist in movement\n",
    "    if 'longitude' not in movement or 'latitude' not in movement:\n",
    "        raise ValueError(\"Movement must contain 'longitude' and 'latitude' keys.\")\n",
    "    \n",
    "    list1 = []\n",
    "    list2 = []\n",
    "    list3 = []\n",
    "    list4 = []\n",
    "    list5 = []\n",
    "    list6 = []\n",
    "    list7 = []\n",
    "    list8 = []\n",
    "\n",
    "    i = 0\n",
    "    # Iterate over the rows of the restaurants DataFrame\n",
    "    for index, restaurant in restaurants.iterrows():\n",
    "        # Calculate the distance using the haversine function\n",
    "        distance = haversine(movement['longitude'], movement['latitude'], restaurant['longitude'], restaurant['latitude'])\n",
    "        \n",
    "        # Check if the distance is within the threshold\n",
    "        n = 0\n",
    "        within_restaurant = False\n",
    "        for dist in distance:\n",
    "            if not within_restaurant and dist <= threshold_km:\n",
    "                list1.append(movement.loc[n, 'id']) \n",
    "                list2.append(movement.loc[n, 'datetime']) \n",
    "                list3.append(restaurant['restaurant_id']) \n",
    "                list4.append(dist)\n",
    "                within_restaurant = True\n",
    "            elif within_restaurant and dist > threshold_km:\n",
    "                list5.append(movement.loc[n, 'id']) \n",
    "                list6.append(movement.loc[n, 'datetime']) \n",
    "                list7.append(restaurant['restaurant_id']) \n",
    "                list8.append(dist)\n",
    "                within_restaurant = False\n",
    "            n+=1\n",
    "    \n",
    "    dict1 = {'id':list1, 'datetime':list2, 'restaurant_id':list3, 'distance':list4}\n",
    "    dict2 = {'id':list5, 'datetime':list6, 'restaurant_id':list7, 'distance':list8}\n",
    "    start_times = pd.DataFrame(dict1)\n",
    "    end_times = pd.DataFrame(dict2)\n",
    "\n",
    "    list9 = []\n",
    "    list10 = []\n",
    "    list11 = []\n",
    "    list12 = []\n",
    "    list13 = []\n",
    "    list14 = []\n",
    "    start_times['time'] = pd.to_datetime(start_times['datetime']).dt.time\n",
    "    end_times['time'] = pd.to_datetime(end_times['datetime']).dt.time\n",
    "    start_times['date'] = pd.to_datetime(start_times['datetime']).dt.date\n",
    "    end_times['date'] = pd.to_datetime(end_times['datetime']).dt.date\n",
    "    for (index1, start), (index2, end) in zip(start_times.iterrows(), end_times.iterrows()):\n",
    "       car = datetime.combine(date.today(), end['time']) - datetime.combine(date.today(), start['time'])\n",
    "       sec = int(car.total_seconds())\n",
    "       if sec >= threshold_time:\n",
    "           list9.append(start_times.loc[index1, 'id'])\n",
    "           list10.append(start_times.loc[index1, 'restaurant_id'])\n",
    "           list11.append(start_times.loc[index1, 'date'])\n",
    "           list12.append(start_times.loc[index1, 'time'])\n",
    "           list13.append(end_times.loc[index2, 'time'])\n",
    "           list14.append(sec)\n",
    "\n",
    "    dict3 = {'id':list9, 'restaurant_id':list10, 'date':list11, 'start_time':list12, 'end_time':list13, 'total_time(seconds)':list14}\n",
    "    final = pd.DataFrame(dict3)\n",
    "\n",
    "    # return False, None  # Return False and None if no nearby restaurant is found\n",
    "    return final\n",
    "x = is_near_restaurant(movement_data, restaurant_data, 0.01, 300)\n",
    "print(x.head())\n",
    "print(len(x.index))\n",
    "\n",
    "\n",
    "\n"
   ]
  },
  {
   "cell_type": "code",
   "execution_count": null,
   "metadata": {},
   "outputs": [],
   "source": []
  }
 ],
 "metadata": {
  "kernelspec": {
   "display_name": "Python 3",
   "language": "python",
   "name": "python3"
  },
  "language_info": {
   "codemirror_mode": {
    "name": "ipython",
    "version": 3
   },
   "file_extension": ".py",
   "mimetype": "text/x-python",
   "name": "python",
   "nbconvert_exporter": "python",
   "pygments_lexer": "ipython3",
   "version": "3.11.3"
  }
 },
 "nbformat": 4,
 "nbformat_minor": 2
}
