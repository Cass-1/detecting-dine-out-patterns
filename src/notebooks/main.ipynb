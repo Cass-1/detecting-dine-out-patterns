{
 "cells": [
  {
   "cell_type": "code",
   "execution_count": 1,
   "metadata": {},
   "outputs": [],
   "source": [
    "import pandas as pd\n",
    "import numpy as np\n",
    "import seaborn as sns\n",
    "import matplotlib.pyplot as plt\n",
    "import os"
   ]
  },
  {
   "cell_type": "code",
   "execution_count": 2,
   "metadata": {},
   "outputs": [],
   "source": [
    "# Load your CSV data\n",
    "movement_data = pd.read_csv(r\"C:\\Users\\leeda\\OneDrive - Washington State University (email.wsu.edu)\\detecting-dine-out-patterns\\data\\movements.csv\", parse_dates=[\"datetime\"])  # Replace with your file path\n",
    "restaurant_data = pd.read_csv(r\"C:\\Users\\leeda\\OneDrive - Washington State University (email.wsu.edu)\\detecting-dine-out-patterns\\data\\restaurants.csv\")  # Replace with your file path"
   ]
  },
  {
   "cell_type": "markdown",
   "metadata": {},
   "source": [
    "# Clean Data"
   ]
  },
  {
   "cell_type": "code",
   "execution_count": 3,
   "metadata": {},
   "outputs": [
    {
     "name": "stdout",
     "output_type": "stream",
     "text": [
      "             datetime    id   longitude   latitude\n",
      "0 2020-01-01 00:00:00  I000 -122.335167  47.608013\n",
      "1 2020-01-01 00:01:07  I000 -122.335166  47.608462\n",
      "2 2020-01-01 00:01:37  I000 -122.335167  47.608432\n",
      "3 2020-01-01 00:02:35  I000 -122.335166  47.608682\n",
      "4 2020-01-01 00:04:05  I000 -122.335166  47.608841\n",
      "  restaurant_id                   name  \\\n",
      "0          R000   Pullman Quick Stop 0   \n",
      "1          R001   Pullman Quick Stop 1   \n",
      "2          R002   Pullman Department 2   \n",
      "3          R003    Pullman Groceries 3   \n",
      "4          R004  Pullman Supercenter 4   \n",
      "\n",
      "                                            category   longitude   latitude  \n",
      "0                                 Convenience Stores -122.435908  47.621564  \n",
      "1                                 Convenience Stores -122.297377  47.649300  \n",
      "2                                  Department Stores -122.338057  47.666842  \n",
      "3  Supermarkets/Other Grocery (Exc Convenience) Strs -122.242926  47.587846  \n",
      "4                     Warehouse Clubs & Supercenters -122.297103  47.534843  \n"
     ]
    }
   ],
   "source": [
    "movement_data.columns = movement_data.columns.str.lower()\n",
    "restaurant_data.columns = restaurant_data.columns.str.lower()\n",
    "restaurant_data.rename(columns={'restaurant id': 'restaurant_id'}, inplace=True)\n",
    "\n",
    "# for n in movement_data:\n",
    "#     movement_data[\"time\"] = movement_data[\"datetime\"].str.split(\" \")\n",
    "#print(movement_data.dtypes)\n",
    "\n",
    "print(movement_data.head())\n",
    "print(restaurant_data.head())\n",
    "\n"
   ]
  },
  {
   "cell_type": "code",
   "execution_count": null,
   "metadata": {},
   "outputs": [],
   "source": [
    "print(movement_data.isnull().sum())\n",
    "print(restaurant_data.isnull().sum())"
   ]
  },
  {
   "cell_type": "markdown",
   "metadata": {},
   "source": [
    "# Exploratory Data Analysis"
   ]
  },
  {
   "cell_type": "markdown",
   "metadata": {},
   "source": [
    "## How many people"
   ]
  },
  {
   "cell_type": "code",
   "execution_count": null,
   "metadata": {},
   "outputs": [],
   "source": [
    "print(len(movement_data.groupby('id')))"
   ]
  },
  {
   "cell_type": "markdown",
   "metadata": {},
   "source": [
    "## Entries per person"
   ]
  },
  {
   "cell_type": "code",
   "execution_count": null,
   "metadata": {},
   "outputs": [],
   "source": [
    "print(movement_data.groupby('id')['datetime'].count().head(10))"
   ]
  },
  {
   "cell_type": "markdown",
   "metadata": {},
   "source": [
    "## Graphs of People's Centeral Location"
   ]
  },
  {
   "cell_type": "markdown",
   "metadata": {},
   "source": [
    "### Haverstine function"
   ]
  },
  {
   "cell_type": "code",
   "execution_count": 4,
   "metadata": {},
   "outputs": [],
   "source": [
    "# Haversine distance function (Earth radius in kilometers)\n",
    "def haversine(lon1, lat1, lon2, lat2):\n",
    "    R = 6371  # Radius of Earth in kilometers\n",
    "    lon1, lat1, lon2, lat2 = map(np.radians, [lon1, lat1, lon2, lat2])\n",
    "    dlon = lon2 - lon1\n",
    "    dlat = lat2 - lat1\n",
    "    a = np.sin(dlat/2)**2 + np.cos(lat1) * np.cos(lat2) * np.sin(dlon/2)**2\n",
    "    c = 2 * np.arcsin(np.sqrt(a))\n",
    "    return R * c"
   ]
  },
  {
   "cell_type": "markdown",
   "metadata": {},
   "source": [
    "### Graphs"
   ]
  },
  {
   "cell_type": "code",
   "execution_count": null,
   "metadata": {},
   "outputs": [],
   "source": [
    "centroid = movement_data.groupby('id').agg({'longitude': 'mean', 'latitude': 'mean'}).reset_index()\n",
    "centroid.columns = ['id', 'centroid_longitude', 'centroid_latitude']"
   ]
  },
  {
   "cell_type": "code",
   "execution_count": null,
   "metadata": {},
   "outputs": [],
   "source": [
    "# Create scatter plot\n",
    "plt.figure(figsize=(8, 5)) \n",
    "plt.scatter(centroid['centroid_longitude'], centroid['centroid_latitude'],label='people', color='blue', marker='o', s=100, alpha=0.7)\n",
    "\n",
    "# Add title and labels\n",
    "plt.title('Centeroid Points of People')\n",
    "plt.xlabel('Longitude')\n",
    "plt.ylabel('Latitude')\n",
    "\n",
    "# Show grid\n",
    "plt.grid(True)\n",
    "\n",
    "# Display the plot\n",
    "plt.show()"
   ]
  },
  {
   "cell_type": "code",
   "execution_count": null,
   "metadata": {},
   "outputs": [],
   "source": [
    "plt.scatter(centroid['centroid_longitude'], centroid['centroid_latitude'],label='People', color='blue', marker='o', s=100, alpha=0.7)\n",
    "plt.scatter(restaurant_data['longitude'], restaurant_data['latitude'],label='Restaurants', color='red', marker='s', s=100, alpha=0.7)\n",
    "\n",
    "# Add title and labels\n",
    "plt.title('Centroid Points of People and Restaurant Locations')\n",
    "plt.xlabel('Longitude')\n",
    "plt.ylabel('Latitude')\n",
    "plt.legend()\n",
    "plt.xticks(rotation=45)\n",
    "plt.grid(True)\n",
    "plt.show()\n"
   ]
  },
  {
   "cell_type": "markdown",
   "metadata": {},
   "source": [
    "## Paths"
   ]
  },
  {
   "cell_type": "code",
   "execution_count": null,
   "metadata": {},
   "outputs": [],
   "source": [
    "person1 = movement_data[movement_data['id'] == 'I000']\n",
    "person1.head()"
   ]
  },
  {
   "cell_type": "markdown",
   "metadata": {},
   "source": [
    "## Average Time Between Measurements"
   ]
  },
  {
   "cell_type": "code",
   "execution_count": null,
   "metadata": {},
   "outputs": [],
   "source": [
    "movement_data['timestamp'] = pd.to_datetime(movement_data['datetime'])\n",
    "\n",
    "# Calculate time differences\n",
    "time_diffs = movement_data['timestamp'].diff()\n",
    "\n",
    "# Compute the average time difference\n",
    "average_time_diff = time_diffs.mean()\n",
    "\n",
    "print(average_time_diff)"
   ]
  },
  {
   "cell_type": "markdown",
   "metadata": {},
   "source": [
    "## People's Visits to Restaurants"
   ]
  },
  {
   "cell_type": "code",
   "execution_count": 15,
   "metadata": {},
   "outputs": [
    {
     "name": "stdout",
     "output_type": "stream",
     "text": [
      "     id            datetime restaurant_id  distance\n",
      "0  I000 2020-01-01 11:29:41          R000  0.000000\n",
      "1  I000 2020-01-02 07:45:33          R000  0.000000\n",
      "2  I000 2020-01-02 07:46:19          R000  0.002595\n",
      "3  I000 2020-01-02 08:54:31          R000  0.000000\n",
      "4  I000 2020-01-02 14:58:45          R000  0.000000\n"
     ]
    }
   ],
   "source": [
    "# Define a function to check if each movement is near a restaurant\n",
    "def is_near_restaurant(movement, restaurants, threshold_km):\n",
    "    # Ensure 'longitude' and 'latitude' exist in movement\n",
    "    if 'longitude' not in movement or 'latitude' not in movement:\n",
    "        raise ValueError(\"Movement must contain 'longitude' and 'latitude' keys.\")\n",
    "    \n",
    "    list1 = []\n",
    "    list2 = []\n",
    "    list3 = []\n",
    "    list4 = []\n",
    "\n",
    "    i = 0\n",
    "    # Iterate over the rows of the restaurants DataFrame\n",
    "    for index, restaurant in restaurants.iterrows():\n",
    "        #for index, move in movement.iterrows():\n",
    "        # Calculate the distance using the haversine function\n",
    "        distance = haversine(movement['longitude'], movement['latitude'], restaurant['longitude'], restaurant['latitude'])\n",
    "        \n",
    "        # Check if the distance is within the threshold\n",
    "        n = 0\n",
    "        for dist in distance:\n",
    "            if dist <= threshold_km:\n",
    "                #return True, restaurant['restaurant_id']  # Return True and the restaurant ID\n",
    "                list1.append(movement.loc[n, 'id']) \n",
    "                list2.append(movement.loc[n, 'datetime']) \n",
    "                list3.append(restaurant['restaurant_id']) \n",
    "                list4.append(dist)\n",
    "            n+=1\n",
    "        break\n",
    "    \n",
    "    dict = {'id':list1, 'datetime':list2, 'restaurant_id':list3, 'distance':list4}\n",
    "\n",
    "    # return False, None  # Return False and None if no nearby restaurant is found\n",
    "    return dict\n",
    "\n",
    "vals = is_near_restaurant(movement_data, restaurant_data, 0.01)\n",
    "df = pd.DataFrame(vals)\n",
    "print(df.head())\n",
    "\n",
    "\n",
    "# Apply function to each movement and create a column indicating restaurant visits\n",
    "# movement_data['restaurant_id'] = movement_data.apply(\n",
    "#     lambda row: foo(count, row, restaurant_data), axis=1 \n",
    "# )\n",
    "# for i in range(0, 100):\n",
    "#     person_id = movement_data.head(1)['id']\n",
    "#     print(f'{person_id}: {is_near_restaurant(movement_data.iloc[i], restaurant_data)[1]}')\n",
    "\n",
    "\n",
    "# Loop through each row in the movement DataFrame\n",
    "# for index, movement in movement_data.iterrows():\n",
    "#     is_near, restaurant_id = is_near_restaurant(movement, restaurant_data)\n",
    "#     print(f\"Movement ID: {movement['id']} - Is near a restaurant? {is_near}, Restaurant ID: {restaurant_id}\")"
   ]
  }
 ],
 "metadata": {
  "kernelspec": {
   "display_name": "Python 3",
   "language": "python",
   "name": "python3"
  },
  "language_info": {
   "codemirror_mode": {
    "name": "ipython",
    "version": 3
   },
   "file_extension": ".py",
   "mimetype": "text/x-python",
   "name": "python",
   "nbconvert_exporter": "python",
   "pygments_lexer": "ipython3",
   "version": "3.11.3"
  }
 },
 "nbformat": 4,
 "nbformat_minor": 2
}
