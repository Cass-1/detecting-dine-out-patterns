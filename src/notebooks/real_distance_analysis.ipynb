{
 "cells": [
  {
   "cell_type": "markdown",
   "metadata": {},
   "source": [
    "# Get Data"
   ]
  },
  {
   "cell_type": "code",
   "execution_count": null,
   "metadata": {},
   "outputs": [],
   "source": [
    "import pandas as pd\n",
    "import matplotlib.pyplot as plt\n",
    "import numpy as np\n",
    "from haversine import haversine_vector\n",
    "import seaborn as sns\n",
    "from IPython.display import display\n",
    "import folium\n",
    "from folium.plugins import HeatMap\n",
    "\n",
    "# Define functions\n",
    "def get_distance_between_rows(df):\n",
    "    \"\"\"\n",
    "    Calculate the Haversine distance between consecutive rows in a DataFrame (in kilometers)\n",
    "    Parameters:\n",
    "    df (pandas.DataFrame): DataFrame containing 'latitude' and 'longitude' columns.\n",
    "    Returns:\n",
    "    numpy.ndarray: Array of distances between consecutive rows.\n",
    "    \"\"\"\n",
    "    \n",
    "    coords1 = df[['latitude', 'longitude']].values[:-1]\n",
    "    coords2 = df[['latitude', 'longitude']].values[1:]\n",
    "    distances = haversine_vector(coords1, coords2, unit='m')  # Convert to meters\n",
    "    return distances\n",
    "\n",
    "# check\n",
    "def get_time_between_rows(df):\n",
    "    \"\"\"\n",
    "    Calculate the time difference between consecutive rows in a DataFrame (in hours)\n",
    "    Parameters:\n",
    "    df (pandas.DataFrame): DataFrame containing a 'datetime' column with date and time information.\n",
    "    Returns: numpy.ndarray: Array of time differences between consecutive rows.\n",
    "    \"\"\"\n",
    "\n",
    "    date = pd.to_datetime(df['datetime'])\n",
    "    datetime1 = date.values[:-1]\n",
    "    datetime2 = date.values[1:]\n",
    "    difference = (datetime2 - datetime1).astype('timedelta64[s]')\n",
    "    getHours = np.vectorize(lambda x: x / np.timedelta64(1, 'h'))\n",
    "    return getHours(difference)"
   ]
  },
  {
   "cell_type": "code",
   "execution_count": null,
   "metadata": {},
   "outputs": [],
   "source": [
    "def clean_restaurant_data(df):\n",
    "    df.columns = df.columns.str.lower()\n",
    "    df['longitude'] = df['longitude'] / 1000000 * -1\n",
    "    df['latitude'] = df['latitude'] / 1000000\n",
    "    return df\n",
    "\n",
    "# Load the data\n",
    "file_path = '../../data/real_movements.csv'\n",
    "movements_data = pd.read_csv(file_path, parse_dates=['datetime'])\n",
    "restaurant_data = pd.read_csv(\"../../data/real_restaurants.csv\")  # Replace with your file path\n",
    "restaurant_data = clean_restaurant_data(restaurant_data)"
   ]
  },
  {
   "cell_type": "markdown",
   "metadata": {},
   "source": [
    "## Distance"
   ]
  },
  {
   "cell_type": "code",
   "execution_count": null,
   "metadata": {},
   "outputs": [],
   "source": [
    "# get distance and time between each measurement\n",
    "grouped = movements_data.groupby('id')\n",
    "distance_dict = {}\n",
    "time_dict = {}\n",
    "midpoints_latitude_dict = {}\n",
    "midpoints_longitude_dict = {}\n",
    "\n",
    "for name, group in grouped:\n",
    "    distances = get_distance_between_rows(group)\n",
    "    times = get_time_between_rows(group)\n",
    "    distance_dict[name] = distances\n",
    "    time_dict[name] = times\n",
    "    midpoints_latitude = (group['latitude'].values[:-1] + group['latitude'].values[1:]) / 2\n",
    "    midpoints_longitude = (group['longitude'].values[:-1] + group['longitude'].values[1:]) / 2\n",
    "    midpoints_latitude_dict[name] = midpoints_latitude\n",
    "    midpoints_longitude_dict[name] = midpoints_longitude\n",
    "\n",
    "# replaces missing items w/ NaN\n",
    "distance_results = pd.DataFrame({ key:pd.Series(value) for key, value in distance_dict.items() })\n",
    "time_results = pd.DataFrame({ key:pd.Series(value) for key, value in time_dict.items() })"
   ]
  },
  {
   "cell_type": "markdown",
   "metadata": {},
   "source": [
    "## Velocity"
   ]
  },
  {
   "cell_type": "code",
   "execution_count": null,
   "metadata": {},
   "outputs": [],
   "source": [
    "# get velocity\n",
    "velocity_results = distance_results / time_results\n",
    "velocity_results.columns = [f'Velocity_{col}' for col in velocity_results.columns]\n",
    "\n",
    "# add midpoints data to velocity_results\n",
    "for name in midpoints_latitude_dict.keys():\n",
    "    velocity_results[f'Midpoint_Latitude_{name}'] = pd.Series(midpoints_latitude_dict[name])\n",
    "    velocity_results[f'Midpoint_Longitude_{name}'] = pd.Series(midpoints_longitude_dict[name])\n",
    "\n",
    "velocity_results.head()\n"
   ]
  },
  {
   "cell_type": "markdown",
   "metadata": {},
   "source": [
    "# Missing Values"
   ]
  },
  {
   "cell_type": "code",
   "execution_count": null,
   "metadata": {},
   "outputs": [],
   "source": [
    "missing_movement_data = pd.DataFrame()\n",
    "missing_movement_data['latitude'] = grouped['latitude'].apply(lambda x: x.isna().sum())\n",
    "missing_movement_data['longitude'] = grouped['latitude'].apply(lambda x: x.isna().sum())\n",
    "\n",
    "missing_movement_data.head(10)"
   ]
  },
  {
   "cell_type": "code",
   "execution_count": null,
   "metadata": {},
   "outputs": [],
   "source": [
    "# verify all missing values are due to lengths\n",
    "length = distance_results.notna().sum().reset_index()\n",
    "length.columns = ['id', 'length']\n",
    "length['distance_from_max'] = length['length'] - length['length'].max()\n",
    "\n",
    "length['distance_results_na'] = distance_results.isna().sum().values\n",
    "length['time_results_na'] = time_results.isna().sum().values\n",
    "\n",
    "length.head(10)\n"
   ]
  },
  {
   "cell_type": "code",
   "execution_count": null,
   "metadata": {},
   "outputs": [],
   "source": [
    "print(distance_results.apply(lambda x: x.isna().sum()))\n",
    "print(time_results.apply(lambda x: x.isna().sum()))"
   ]
  },
  {
   "cell_type": "markdown",
   "metadata": {},
   "source": [
    "# Summary Stats"
   ]
  },
  {
   "cell_type": "code",
   "execution_count": null,
   "metadata": {},
   "outputs": [],
   "source": [
    "distance_results.apply(lambda x: x.describe())"
   ]
  },
  {
   "cell_type": "code",
   "execution_count": null,
   "metadata": {},
   "outputs": [],
   "source": [
    "velocity_results.apply(lambda x: x.describe())"
   ]
  },
  {
   "cell_type": "code",
   "execution_count": null,
   "metadata": {},
   "outputs": [],
   "source": [
    "low_movement_in_meters = low_movement * 1000\n",
    "low_movement_in_meters.apply(lambda x: x.describe())"
   ]
  },
  {
   "cell_type": "markdown",
   "metadata": {},
   "source": [
    "# Sleep"
   ]
  },
  {
   "cell_type": "code",
   "execution_count": null,
   "metadata": {},
   "outputs": [],
   "source": [
    "def longest_stretch_no_movement(df, threshold, movements_data):\n",
    "    \"\"\"input in seconds and km\"\"\"\n",
    "    longest_stretch = {}\n",
    "    stretch_timestamps = {}\n",
    "    stretch_durations = {}\n",
    "    \n",
    "    for col in df.columns:\n",
    "        small_movement = df[col] < threshold\n",
    "        max_stretch = 0\n",
    "        current_stretch = 0\n",
    "        start_index = 0\n",
    "        end_index = 0\n",
    "        \n",
    "        for i, movement in enumerate(small_movement):\n",
    "            if movement:\n",
    "                if current_stretch == 0:\n",
    "                    current_start_index = i\n",
    "                current_stretch += 1\n",
    "            else:\n",
    "                if current_stretch > max_stretch:\n",
    "                    max_stretch = current_stretch\n",
    "                    start_index = current_start_index\n",
    "                    end_index = i - 1\n",
    "                current_stretch = 0\n",
    "        \n",
    "        # Check the last stretch\n",
    "        if current_stretch > max_stretch:\n",
    "            max_stretch = current_stretch\n",
    "            start_index = current_start_index\n",
    "            end_index = len(small_movement) - 1\n",
    "        \n",
    "        longest_stretch[col] = max_stretch\n",
    "        start_time = movements_data.iloc[start_index]['datetime']\n",
    "        end_time = movements_data.iloc[end_index]['datetime']\n",
    "        stretch_timestamps[col] = (start_time, end_time)\n",
    "        stretch_durations[col] = (end_time - start_time).total_seconds() / 3600  # duration in hours\n",
    "    \n",
    "    return longest_stretch, stretch_timestamps, stretch_durations\n",
    "\n",
    "# LOW_MOVEMENT_BOUND = NaN\n",
    "SLEEP_UPPER_BOUND = 0.5 / 1000\n",
    "# Find the longest stretch of no movement for each individual, their timestamps, and durations\n",
    "longest_stretch_no_movement_results, stretch_timestamps, stretch_durations = longest_stretch_no_movement(distance_results, LOW_MOVEMENT_BOUND, movements_data)\n",
    "\n",
    "# Turn the results into a DataFrame\n",
    "longest_stretch_df = pd.DataFrame({\n",
    "    'Longest Stretch (no movement)': longest_stretch_no_movement_results,\n",
    "    'Start Time': {k: v[0] for k, v in stretch_timestamps.items()},\n",
    "    'End Time': {k: v[1] for k, v in stretch_timestamps.items()},\n",
    "    'Duration (hours)': stretch_durations\n",
    "})\n",
    "\n",
    "longest_stretch_df.head(10)"
   ]
  },
  {
   "cell_type": "markdown",
   "metadata": {},
   "source": [
    "# Graphs"
   ]
  },
  {
   "cell_type": "markdown",
   "metadata": {},
   "source": [
    "## Velocity Over Time"
   ]
  },
  {
   "cell_type": "code",
   "execution_count": null,
   "metadata": {},
   "outputs": [],
   "source": [
    "n_1 = 1\n",
    "n_2 = 1\n",
    "# Plot the velocity results for each id in separate graphs with downsampling and rolling averages\n",
    "for col in velocity_results.columns:\n",
    "    plt.figure(figsize=(10, 3))\n",
    "    \n",
    "    # first 10,000 points\n",
    "    downsampled_data = velocity_results[col].iloc[:10000:]\n",
    "    \n",
    "    # Calculate rolling average with a window of 1000 points\n",
    "    # rolling_avg = velocity_results[col].rolling(window=n_2).mean()\n",
    "    \n",
    "    plt.plot(downsampled_data.index, downsampled_data, linestyle='-', label=f'{col}')\n",
    "    # plt.plot(rolling_avg.index, rolling_avg, linestyle='-', color='red', label=f'{col} (Rolling Avg)')\n",
    "    \n",
    "    # Add labels and title\n",
    "    plt.xlabel('Index')\n",
    "    plt.ylabel('Velocity (km/hr)')\n",
    "    plt.title(f'Velocity Over Time for {col}')\n",
    "    plt.legend()\n",
    "    \n",
    "    # Show the plot\n",
    "    plt.show()"
   ]
  },
  {
   "cell_type": "markdown",
   "metadata": {},
   "source": [
    "## Movement Distributions"
   ]
  },
  {
   "cell_type": "code",
   "execution_count": null,
   "metadata": {},
   "outputs": [],
   "source": [
    "for col in distance_results.columns:\n",
    "    # Plot the histogram with logarithmic scaling\n",
    "    sns.histplot(distance_results[col], bins=100, log_scale=(True, False))\n",
    "\n",
    "    # Add labels and title\n",
    "    plt.xlabel(f'Distance Traveled by {col}(km)')\n",
    "    plt.ylabel('Frequency')\n",
    "    plt.title(f'Distribution of Distances for {col}')\n",
    "\n",
    "    # Show the plot\n",
    "    plt.show()"
   ]
  },
  {
   "cell_type": "code",
   "execution_count": null,
   "metadata": {},
   "outputs": [],
   "source": [
    "for col in distance_results.columns:\n",
    "    # Plot the histogram with logarithmic scaling\n",
    "    sns.histplot([distance for distance in distance_results[col] if distance < 3], bins=100, log_scale=(True, False))\n",
    "    \n",
    "\n",
    "    # Add labels and title\n",
    "    plt.xlabel(f'Distance Traveled by {col} > 10(km)')\n",
    "    plt.ylabel('Frequency')\n",
    "    plt.title(f'Distribution of Distances for {col}')\n",
    "\n",
    "    # Show the plot\n",
    "    plt.show()"
   ]
  },
  {
   "cell_type": "markdown",
   "metadata": {},
   "source": [
    "## Velocity Distributions"
   ]
  },
  {
   "cell_type": "code",
   "execution_count": null,
   "metadata": {},
   "outputs": [],
   "source": [
    "for col in velocity_results.columns:\n",
    "    # Plot the histogram with logarithmic scaling\n",
    "    sns.histplot(velocity_results[col], bins=100, log_scale=(True, False))\n",
    "\n",
    "    # Add labels and title\n",
    "    plt.xlabel(f'Distance Traveled by {col}(km)')\n",
    "    plt.ylabel('Frequency')\n",
    "    plt.title(f'Distribution of Distances for {col}')\n",
    "\n",
    "    # Show the plot\n",
    "    plt.show()"
   ]
  },
  {
   "cell_type": "markdown",
   "metadata": {},
   "source": [
    "## Low Movement"
   ]
  },
  {
   "cell_type": "code",
   "execution_count": null,
   "metadata": {},
   "outputs": [],
   "source": [
    "for col in low_movement.columns:\n",
    "    # Plot the histogram with logarithmic scaling\n",
    "    sns.histplot([distance for distance in low_movement[col]], bins=100)\n",
    "    \n",
    "\n",
    "    # Add labels and title\n",
    "    plt.xlabel(f'Distance Traveled by {col} < ${LOW_MOVEMENT_BOUND}(m)')\n",
    "    plt.ylabel('Frequency')\n",
    "    plt.title(f'Distribution of Distances for {col}')\n",
    "\n",
    "    # Show the plot\n",
    "    plt.show()"
   ]
  },
  {
   "cell_type": "markdown",
   "metadata": {},
   "source": [
    "## Heatmaps and Restuarant Maps"
   ]
  },
  {
   "cell_type": "markdown",
   "metadata": {},
   "source": [
    "### Restaurants"
   ]
  },
  {
   "cell_type": "code",
   "execution_count": null,
   "metadata": {},
   "outputs": [],
   "source": [
    "# Plot all restaurant locations\n",
    "plt.figure(figsize=(10, 6))\n",
    "plt.scatter(restaurant_data['longitude'], restaurant_data['latitude'], label='restaurants', color='red', marker='s', s=10, alpha=0.7)\n",
    "\n",
    "# Add title and labels\n",
    "plt.title('Restaurant Locations')\n",
    "plt.xlabel('Longitude')\n",
    "plt.ylabel('Latitude')\n",
    "plt.legend()\n",
    "plt.xticks(rotation=45)\n",
    "plt.grid(True)\n",
    "plt.show()"
   ]
  },
  {
   "cell_type": "markdown",
   "metadata": {},
   "source": [
    "### Seperate Person Data"
   ]
  },
  {
   "cell_type": "code",
   "execution_count": null,
   "metadata": {},
   "outputs": [],
   "source": [
    "person_121 = movements_data[movements_data['id'] == 121]\n",
    "person_125 = movements_data[movements_data['id'] == 125]"
   ]
  },
  {
   "cell_type": "markdown",
   "metadata": {},
   "source": [
    "### Velocity HeatMap Person 121"
   ]
  },
  {
   "cell_type": "code",
   "execution_count": null,
   "metadata": {},
   "outputs": [],
   "source": [
    "velocity_results_121 = pd.DataFrame({\n",
    "    'latitude': velocity_results['Midpoint_Latitude_121'],\n",
    "    'longitude': velocity_results['Midpoint_Longitude_121'],\n",
    "    'velocity': velocity_results['Velocity_121']\n",
    "})\n",
    "velocity_results_121 = velocity_results_121.dropna(subset=['latitude', 'longitude', 'velocity'])\n",
    "# Create a base map centered at the mean latitude and longitude\n",
    "base_map = folium.Map(location=[velocity_results_121['latitude'].mean(), velocity_results_121['longitude'].mean()], zoom_start=12)\n",
    "\n",
    "# Prepare the data for the heatmap\n",
    "heat_data = velocity_results_121[['latitude', 'longitude', 'velocity']].values.tolist()\n",
    "\n",
    "# Add the heatmap layer\n",
    "HeatMap(heat_data, radius=15, blur=10, max_zoom=1).add_to(base_map)\n",
    "\n",
    "# Display the map\n",
    "base_map"
   ]
  },
  {
   "cell_type": "markdown",
   "metadata": {},
   "source": [
    "### Velocity HeatMap Person 125"
   ]
  },
  {
   "cell_type": "code",
   "execution_count": null,
   "metadata": {},
   "outputs": [],
   "source": [
    "velocity_results_125 = pd.DataFrame({\n",
    "    'latitude': velocity_results['Midpoint_Latitude_125'],\n",
    "    'longitude': velocity_results['Midpoint_Longitude_125'],\n",
    "    'velocity': velocity_results['Velocity_125']\n",
    "})\n",
    "velocity_results_125 = velocity_results_125.dropna(subset=['latitude', 'longitude', 'velocity'])\n",
    "# Create a base map centered at the mean latitude and longitude\n",
    "base_map = folium.Map(location=[velocity_results_125['latitude'].mean(), velocity_results_125['longitude'].mean()], zoom_start=12)\n",
    "\n",
    "# Prepare the data for the heatmap\n",
    "heat_data = velocity_results_125[['latitude', 'longitude', 'velocity']].values.tolist()\n",
    "\n",
    "# Add the heatmap layer\n",
    "HeatMap(heat_data, radius=15, blur=10, max_zoom=1).add_to(base_map)\n",
    "\n",
    "# Display the map\n",
    "base_map"
   ]
  },
  {
   "cell_type": "markdown",
   "metadata": {},
   "source": [
    "### Demo Visit Map"
   ]
  },
  {
   "cell_type": "code",
   "execution_count": null,
   "metadata": {},
   "outputs": [],
   "source": [
    "# Create a base map\n",
    "base_map = folium.Map(location=[person_121['latitude'].mean(), person_121['longitude'].mean()], zoom_start=12)\n",
    "\n",
    "# Extract the latitude and longitude data\n",
    "heat_data = person_121[['latitude', 'longitude']].dropna().values.tolist()\n",
    "\n",
    "# Add the heatmap layer\n",
    "HeatMap(heat_data).add_to(base_map)\n",
    "\n",
    "\n",
    "\n",
    "# Add clustered places as pins on the map\n",
    "for _, row in restaurant_data.head(300).iterrows():\n",
    "    folium.Marker(\n",
    "        location=[row['latitude'], row['longitude']]\n",
    "    ).add_to(base_map)\n",
    "\n",
    "# Display the map\n",
    "base_map"
   ]
  },
  {
   "cell_type": "markdown",
   "metadata": {},
   "source": [
    "### Person One"
   ]
  },
  {
   "cell_type": "code",
   "execution_count": null,
   "metadata": {},
   "outputs": [],
   "source": [
    "plt.figure(figsize=(10, 6))\n",
    "\n",
    "# Plot the restaurant locations\n",
    "\n",
    "plt.scatter(restaurant_data['longitude'], restaurant_data['latitude'], label='restaurants', color='red', marker='s', s=10, alpha=0.7)\n",
    "# Plot the person's path\n",
    "person_data = person_121.dropna(subset=['longitude', 'latitude'])\n",
    "plt.plot(person_data['longitude'], person_data['latitude'], label=f'Path of {121}', color='blue', alpha=0.6)\n",
    "\n",
    "# Add title and labels\n",
    "plt.title(f'{121}\\'s Path with Restaurant Locations')\n",
    "plt.xlabel('Longitude')\n",
    "plt.ylabel('Latitude')\n",
    "# plt.legend()\n",
    "plt.xticks(rotation=45)\n",
    "plt.grid(True)\n",
    "plt.show()\n",
    "# Count the number of visits to each location\n",
    "visit_counts = person_data.groupby(['longitude', 'latitude']).size().reset_index(name='counts')\n",
    "\n",
    "# Plot the restaurant locations with visit weights\n",
    "plt.figure(figsize=(10, 6))\n",
    "plt.scatter(restaurant_data['longitude'], restaurant_data['latitude'], label='restaurants', color='red', marker='s',s=10, alpha=0.7)\n",
    "plt.scatter(visit_counts['longitude'], visit_counts['latitude'], s=visit_counts['counts'], label=f'Path of {121}', color='blue', alpha=0.6)\n",
    "\n",
    "# Add title and labels\n",
    "plt.title(f'Restaurant Locations and {121}\\'s Path with Visit Weights')\n",
    "plt.xlabel('Longitude')\n",
    "plt.ylabel('Latitude')\n",
    "plt.legend()\n",
    "plt.xticks(rotation=45)\n",
    "plt.grid(True)\n",
    "plt.show()\n",
    "\n",
    "display(visit_counts.sort_values(by='counts', ascending=False).head(10))"
   ]
  },
  {
   "cell_type": "markdown",
   "metadata": {},
   "source": [
    "### Person Two"
   ]
  },
  {
   "cell_type": "code",
   "execution_count": null,
   "metadata": {},
   "outputs": [],
   "source": [
    "plt.figure(figsize=(10, 6))\n",
    "\n",
    "# FULL GRAPH\n",
    "plt.scatter(restaurant_data['longitude'], restaurant_data['latitude'], label='restaurants', color='red', marker='s', s=10, alpha=0.7)\n",
    "# Plot the person's path\n",
    "person_data = person_125.dropna(subset=['longitude', 'latitude'])\n",
    "\n",
    "# plot person's movement\n",
    "plt.plot(person_data['longitude'], person_data['latitude'], label=f'Path of {125}', color='blue', alpha=0.6)\n",
    "\n",
    "# add title and labels\n",
    "plt.title(f'{125}\\'s Path and R')\n",
    "plt.xlabel('Longitude')\n",
    "plt.ylabel('Latitude')\n",
    "# plt.legend()\n",
    "plt.xticks(rotation=45)\n",
    "plt.grid(True)\n",
    "plt.show()\n",
    "\n",
    "\n",
    "\n",
    "\n",
    "visit_counts = person_data.groupby(['longitude', 'latitude']).size().reset_index(name='counts')\n",
    "\n",
    "# Plot the restaurant locations with visit weights\n",
    "plt.figure(figsize=(10, 6))\n",
    "plt.scatter(restaurant_data['longitude'], restaurant_data['latitude'], label='restaurants', color='red', marker='s', alpha=0.7)\n",
    "plt.scatter(visit_counts['longitude'], visit_counts['latitude'], s=visit_counts['counts'], label=f'Path of {125}', color='blue', alpha=0.6)\n",
    "\n",
    "# Add title and labels\n",
    "plt.title(f'Restaurant Locations and {125}\\'s Path with Visit Weights')\n",
    "plt.xlabel('Longitude')\n",
    "plt.ylabel('Latitude')\n",
    "plt.legend()\n",
    "plt.xticks(rotation=45)\n",
    "plt.grid(True)\n",
    "plt.show()\n",
    "\n",
    "display(visit_counts.sort_values(by='counts', ascending=False).head(10))"
   ]
  },
  {
   "cell_type": "code",
   "execution_count": null,
   "metadata": {},
   "outputs": [],
   "source": [
    "# FOCUS ON RESTAURANT\n",
    "plt.scatter(restaurant_data['longitude'], restaurant_data['latitude'], label='restaurants', color='red', marker='s', s=10, alpha=0.7)\n",
    "# Plot the person's path\n",
    "person_data = person_125.dropna(subset=['longitude', 'latitude'])\n",
    "\n",
    "# plot person's movement\n",
    "plt.plot(person_data['longitude'], person_data['latitude'], label=f'Path of {125}', color='blue', alpha=0.6)\n",
    "\n",
    "\n",
    "# set limits of graph\n",
    "plt.xlim(restaurant_data['longitude'].min() - 0.01, restaurant_data['longitude'].max() + 0.01)\n",
    "plt.ylim(restaurant_data['latitude'].min() - 0.01, restaurant_data['latitude'].max() + 0.01)\n",
    "\n",
    "\n",
    "# add title and labels\n",
    "plt.title(f'Restaurant Locations with {125}\\'s Path')\n",
    "plt.xlabel('Longitude')\n",
    "plt.ylabel('Latitude')\n",
    "# plt.legend()\n",
    "plt.xticks(rotation=45)\n",
    "plt.grid(True)\n",
    "plt.show()"
   ]
  }
 ],
 "metadata": {
  "kernelspec": {
   "display_name": ".venv",
   "language": "python",
   "name": "python3"
  },
  "language_info": {
   "codemirror_mode": {
    "name": "ipython",
    "version": 3
   },
   "file_extension": ".py",
   "mimetype": "text/x-python",
   "name": "python",
   "nbconvert_exporter": "python",
   "pygments_lexer": "ipython3",
   "version": "3.12.7"
  }
 },
 "nbformat": 4,
 "nbformat_minor": 2
}
