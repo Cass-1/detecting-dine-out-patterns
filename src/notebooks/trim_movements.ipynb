{
 "cells": [
  {
   "cell_type": "code",
   "execution_count": null,
   "metadata": {},
   "outputs": [],
   "source": [
    "import pandas as pd\n",
    "\n",
    "def is_even_second(timestamp):\n",
    "    return timestamp.second % 2 == 0\n",
    "\n",
    "def analyze_measurements(file_path):\n",
    "    df = pd.read_csv(file_path, parse_dates=['datetime'])\n",
    "    total_measurements = len(df)\n",
    "    even_second_measurements = len(df[df['datetime'].dt.second % 2 == 0])\n",
    "\n",
    "    print(f\"Total measurements: {total_measurements}\")\n",
    "    print(f\"Measurements at even seconds: {even_second_measurements}\")\n",
    "\n",
    "analyze_measurements('../data/movements.csv')"
   ]
  },
  {
   "cell_type": "code",
   "execution_count": null,
   "metadata": {},
   "outputs": [],
   "source": [
    "import pandas as pd\n",
    "    \n",
    "'''\n",
    "Calculate the average time difference between consecutive measurements taken at even seconds.\n",
    "Args:\n",
    "    file_path (str): The path to the CSV file containing the data. The CSV file must have a 'datetime' column.\n",
    "Returns:\n",
    "    None: This function prints the average time difference between consecutive measurements taken at even seconds.\n",
    "'''\n",
    "def average_time_apart(file_path):\n",
    "    df = pd.read_csv(file_path, parse_dates=['datetime'])\n",
    "    df['second'] = df['datetime'].dt.second\n",
    "    even_second_df = df[df['second'] % 2 == 0]\n",
    "\n",
    "    even_second_df = even_second_df.sort_values(by='datetime')\n",
    "    even_second_df['time_diff'] = even_second_df['datetime'].diff().dt.total_seconds()\n",
    "    average_diff = even_second_df['time_diff'].mean()\n",
    "    print(f\"Average time apart between even second measurements: {average_diff} seconds\")\n",
    "\n",
    "average_time_apart('../data/movements.csv')"
   ]
  },
  {
   "cell_type": "code",
   "execution_count": null,
   "metadata": {},
   "outputs": [
    {
     "name": "stdout",
     "output_type": "stream",
     "text": [
      "Average distance between rows 0.44741044360472004 km\n",
      "Median distance between rows 0.021416861694718372 km\n"
     ]
    }
   ],
   "source": [
    "import sys\n",
    "import pandas as pd\n",
    "\n",
    "sys.path.insert(0, '/workspaces/detecting-dine-out-patterns/src')\n",
    "from util.average_distance_between_rows import average_distance_between_rows\n",
    "from util.median_distance_between_rows import median_distance_between_rows\n",
    "\n",
    "df = pd.read_csv('../data/movements.csv')\n",
    "\n",
    "print(f\"Average distance between rows {average_distance_between_rows(df)} km\")\n",
    "print(f\"Median distance between rows {median_distance_between_rows(df)} km\")\n"
   ]
  },
  {
   "cell_type": "code",
   "execution_count": null,
   "metadata": {},
   "outputs": [],
   "source": [
    "def save_every_other_measurement(file_path, output_path):\n",
    "    df = pd.read_csv(file_path, parse_dates=['datetime'])\n",
    "    every_other_df = df.iloc[::2]\n",
    "    every_other_df.to_csv(output_path, index=False)\n",
    "    print(f\"Saved every other measurement to {output_path}\")\n",
    "\n",
    "save_every_other_measurement('../data/movements.csv', '../data/every_other_movement.csv')\n"
   ]
  },
  {
   "cell_type": "code",
   "execution_count": null,
   "metadata": {},
   "outputs": [],
   "source": [
    "def average_time_apart_every_other(file_path):\n",
    "    df = pd.read_csv(file_path, parse_dates=['datetime'])\n",
    "    df = df.sort_values(by='datetime')\n",
    "    df['time_diff'] = df['datetime'].diff().dt.total_seconds()\n",
    "    average_diff = df['time_diff'].mean()\n",
    "    print(f\"Average time apart between every other measurement: {average_diff} seconds\")\n",
    "\n",
    "average_time_apart_every_other('../data/every_other_movement.csv')"
   ]
  }
 ],
 "metadata": {
  "kernelspec": {
   "display_name": ".venv",
   "language": "python",
   "name": "python3"
  },
  "language_info": {
   "codemirror_mode": {
    "name": "ipython",
    "version": 3
   },
   "file_extension": ".py",
   "mimetype": "text/x-python",
   "name": "python",
   "nbconvert_exporter": "python",
   "pygments_lexer": "ipython3",
   "version": "3.12.7"
  }
 },
 "nbformat": 4,
 "nbformat_minor": 2
}
