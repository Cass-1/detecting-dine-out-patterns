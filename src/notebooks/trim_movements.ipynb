{
 "cells": [
  {
   "cell_type": "markdown",
   "metadata": {},
   "source": [
    "# Imports and Data File"
   ]
  },
  {
   "cell_type": "code",
   "execution_count": null,
   "metadata": {},
   "outputs": [],
   "source": [
    "import sys\n",
    "import pandas as pd\n",
    "import numpy as np\n",
    "from haversine import haversine\n",
    "import matplotlib.pyplot as plt\n",
    "\n",
    "sys.path.insert(0, '/workspaces/detecting-dine-out-patterns/src')\n",
    "import util\n",
    "from util.distance import average_distance_between_rows\n",
    "from util.distance import median_distance_between_rows"
   ]
  },
  {
   "cell_type": "code",
   "execution_count": null,
   "metadata": {},
   "outputs": [],
   "source": [
    "file_path = '../../data/movements.csv'\n",
    "movements_data = pd.read_csv(file_path, parse_dates=['datetime'])"
   ]
  },
  {
   "cell_type": "markdown",
   "metadata": {},
   "source": [
    "# Cut-down Data"
   ]
  },
  {
   "cell_type": "markdown",
   "metadata": {},
   "source": [
    "### By Evenness"
   ]
  },
  {
   "cell_type": "code",
   "execution_count": null,
   "metadata": {},
   "outputs": [],
   "source": [
    "\n",
    "def is_even_second(timestamp):\n",
    "    return timestamp.second % 2 == 0\n",
    "\n",
    "def analyze_measurements(df):\n",
    "    total_measurements = len(df)\n",
    "    even_second_measurements = len(df[df['datetime'].dt.second % 2 == 0])\n",
    "\n",
    "    print(f\"Total measurements: {total_measurements}\")\n",
    "    print(f\"Measurements at even seconds: {even_second_measurements}\")\n",
    "\n",
    "analyze_measurements(movements_data)"
   ]
  },
  {
   "cell_type": "code",
   "execution_count": null,
   "metadata": {},
   "outputs": [],
   "source": [
    "def average_time_apart(df):\n",
    "    df['second'] = df['datetime'].dt.second\n",
    "    even_second_df = df[df['second'] % 2 == 0]\n",
    "\n",
    "    even_second_df = even_second_df.sort_values(by='datetime')\n",
    "    even_second_df['time_diff'] = even_second_df['datetime'].diff().dt.total_seconds()\n",
    "    average_diff = even_second_df['time_diff'].mean()\n",
    "    print(f\"Average time apart between even second measurements: {average_diff} seconds\")\n",
    "\n",
    "average_time_apart(movements_data)\n",
    "\n"
   ]
  },
  {
   "cell_type": "markdown",
   "metadata": {},
   "source": [
    "### By Distance"
   ]
  },
  {
   "cell_type": "code",
   "execution_count": null,
   "metadata": {},
   "outputs": [],
   "source": [
    "grouped = movements_data.groupby('id')\n",
    "results = []\n",
    "\n",
    "for name, group in grouped:\n",
    "    avg_distance = average_distance_between_rows(group)\n",
    "    med_distance = median_distance_between_rows(group)\n",
    "    results.append({'id': name, 'avg_distance': avg_distance, 'med_distance': med_distance})\n",
    "\n",
    "results_df = pd.DataFrame(results)\n",
    "print(results_df)\n"
   ]
  },
  {
   "cell_type": "code",
   "execution_count": null,
   "metadata": {},
   "outputs": [],
   "source": [
    "# Filter the data for id I000\n",
    "i000_data = movements_data[movements_data['id'] == 'I000']\n",
    "\n",
    "# Calculate the distances between consecutive points\n",
    "i000_data = i000_data.sort_values(by='datetime')\n",
    "distances = []\n",
    "for i in range(len(i000_data) - 1):\n",
    "    lat1, lon1 = i000_data.iloc[i][['latitude', 'longitude']]\n",
    "    lat2, lon2 = i000_data.iloc[i + 1][['latitude', 'longitude']]\n",
    "    distance = haversine((lat1, lon1), (lat2, lon2))\n",
    "    distances.append({'from_id': i000_data.iloc[i]['id'], 'to_id': i000_data.iloc[i + 1]['id'], 'distance (km)': distance})\n",
    "    \n",
    "i000_data['distance'] = distances\n",
    "\n",
    "# Plot the distances\n",
    "plt.figure(figsize=(10, 6))\n",
    "plt.plot(i000_data['datetime'], i000_data['distance'], marker='o', linestyle='-', color='b')\n",
    "plt.xlabel('Datetime')\n",
    "plt.ylabel('Distance (km)')\n",
    "plt.title('Distance Moved for ID I000')\n",
    "plt.grid(True)\n",
    "plt.show()"
   ]
  },
  {
   "cell_type": "code",
   "execution_count": null,
   "metadata": {},
   "outputs": [],
   "source": [
    "\n",
    "last_points = movements_data.groupby('id').last().reset_index()\n",
    "first_points = movements_data.groupby('id').first().reset_index()\n",
    "\n",
    "distances = []\n",
    "for i in range(len(last_points) - 1):\n",
    "    lat1, lon1 = last_points.iloc[i][['latitude', 'longitude']]\n",
    "    lat2, lon2 = first_points.iloc[i + 1][['latitude', 'longitude']]\n",
    "    distance = haversine((lat1, lon1), (lat2, lon2))\n",
    "    distances.append({'from_id': last_points.iloc[i]['id'], 'to_id': first_points.iloc[i + 1]['id'], 'distance (km)': distance})\n",
    "\n",
    "distances_df = pd.DataFrame(distances)\n",
    "print(distances_df)\n"
   ]
  },
  {
   "cell_type": "markdown",
   "metadata": {},
   "source": [
    "### Every Other "
   ]
  },
  {
   "cell_type": "code",
   "execution_count": null,
   "metadata": {},
   "outputs": [],
   "source": [
    "def average_time_apart_every_other(file_path):\n",
    "    df = pd.read_csv(file_path, parse_dates=['datetime'])\n",
    "    df = df.sort_values(by='datetime')\n",
    "    df['time_diff'] = df['datetime'].diff().dt.total_seconds()\n",
    "    average_diff = df['time_diff'].mean()\n",
    "    print(f\"Average time apart between every other measurement: {average_diff} seconds\")\n",
    "\n",
    "average_time_apart_every_other('../data/every_other_movement.csv')"
   ]
  },
  {
   "cell_type": "code",
   "execution_count": null,
   "metadata": {},
   "outputs": [],
   "source": [
    "# def save_every_other_measurement(file_path, output_path):\n",
    "#     df = pd.read_csv(file_path, parse_dates=['datetime'])\n",
    "#     every_other_df = df.iloc[::2]\n",
    "#     every_other_df.to_csv(output_path, index=False)\n",
    "#     print(f\"Saved every other measurement to {output_path}\")\n",
    "\n",
    "# save_every_other_measurement('../data/movements.csv', '../data/every_other_movement.csv')\n"
   ]
  }
 ],
 "metadata": {
  "kernelspec": {
   "display_name": ".venv",
   "language": "python",
   "name": "python3"
  },
  "language_info": {
   "codemirror_mode": {
    "name": "ipython",
    "version": 3
   },
   "file_extension": ".py",
   "mimetype": "text/x-python",
   "name": "python",
   "nbconvert_exporter": "python",
   "pygments_lexer": "ipython3",
   "version": "3.12.7"
  }
 },
 "nbformat": 4,
 "nbformat_minor": 2
}
