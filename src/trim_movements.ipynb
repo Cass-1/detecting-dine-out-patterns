{
 "cells": [
  {
   "cell_type": "code",
   "execution_count": null,
   "metadata": {},
   "outputs": [],
   "source": [
    "import csv\n",
    "from datetime import datetime\n",
    "\n",
    "def is_even_second(timestamp):\n",
    "    return timestamp.second % 2 == 0\n",
    "\n",
    "def analyze_measurements(file_path):\n",
    "    total_measurements = 0\n",
    "    even_second_measurements = 0\n",
    "\n",
    "    with open(file_path, 'r') as file:\n",
    "        reader = csv.DictReader(file)\n",
    "        for row in reader:\n",
    "            timestamp = datetime.strptime(row['datetime'], '%Y-%m-%d %H:%M:%S')\n",
    "            total_measurements += 1\n",
    "            if is_even_second(timestamp):\n",
    "                even_second_measurements += 1\n",
    "\n",
    "    print(f\"Total measurements: {total_measurements}\")\n",
    "    print(f\"Measurements at even seconds: {even_second_measurements}\")\n",
    "\n",
    "# 1m 7.2s\n",
    "analyze_measurements('../data/movements.csv')"
   ]
  },
  {
   "cell_type": "code",
   "execution_count": null,
   "metadata": {},
   "outputs": [],
   "source": []
  },
  {
   "cell_type": "code",
   "execution_count": null,
   "metadata": {},
   "outputs": [],
   "source": []
  }
 ],
 "metadata": {
  "kernelspec": {
   "display_name": ".venv",
   "language": "python",
   "name": "python3"
  },
  "language_info": {
   "codemirror_mode": {
    "name": "ipython",
    "version": 3
   },
   "file_extension": ".py",
   "mimetype": "text/x-python",
   "name": "python",
   "nbconvert_exporter": "python",
   "pygments_lexer": "ipython3",
   "version": "3.12.7"
  }
 },
 "nbformat": 4,
 "nbformat_minor": 2
}
