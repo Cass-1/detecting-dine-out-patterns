{
 "cells": [
  {
   "cell_type": "code",
   "execution_count": null,
   "metadata": {},
   "outputs": [
    {
     "name": "stdout",
     "output_type": "stream",
     "text": [
      "Total measurements: 5262068\n",
      "Measurements at even seconds: 2631432\n"
     ]
    }
   ],
   "source": [
    "import pandas as pd\n",
    "\n",
    "def is_even_second(timestamp):\n",
    "    return timestamp.second % 2 == 0\n",
    "\n",
    "def analyze_measurements(file_path):\n",
    "    df = pd.read_csv(file_path, parse_dates=['datetime'])\n",
    "    total_measurements = len(df)\n",
    "    even_second_measurements = len(df[df['datetime'].dt.second % 2 == 0])\n",
    "\n",
    "    print(f\"Total measurements: {total_measurements}\")\n",
    "    print(f\"Measurements at even seconds: {even_second_measurements}\")\n",
    "\n",
    "analyze_measurements('../data/movements.csv')"
   ]
  },
  {
   "cell_type": "code",
   "execution_count": null,
   "metadata": {},
   "outputs": [
    {
     "name": "stdout",
     "output_type": "stream",
     "text": [
      "              datetime    id   longitude   latitude  second\n",
      "0  2020-01-01 00:00:00  I000 -122.335167  47.608013       0\n",
      "5  2020-01-01 00:05:10  I000 -122.335166  47.608407      10\n",
      "7  2020-01-01 00:07:08  I000 -122.335167  47.608020       8\n",
      "9  2020-01-01 00:08:34  I000 -122.323446  47.668878      34\n",
      "10 2020-01-01 00:09:44  I000 -122.323447  47.669436      44\n",
      "11 2020-01-01 00:10:44  I000 -122.323447  47.669432      44\n",
      "13 2020-01-01 00:12:52  I000 -122.323446  47.669401      52\n",
      "15 2020-01-01 00:14:56  I000 -122.323446  47.669362      56\n",
      "19 2020-01-01 00:18:28  I000 -122.248270  47.639509      28\n",
      "20 2020-01-01 00:19:46  I000 -122.397275  47.673155      46\n",
      "Average time apart between even second measurements: 119.94201634015864 seconds\n"
     ]
    }
   ],
   "source": [
    "import pandas as pd\n",
    "    \n",
    "'''\n",
    "Calculate the average time difference between consecutive measurements taken at even seconds.\n",
    "Args:\n",
    "    file_path (str): The path to the CSV file containing the data. The CSV file must have a 'datetime' column.\n",
    "Returns:\n",
    "    None: This function prints the average time difference between consecutive measurements taken at even seconds.\n",
    "'''\n",
    "def average_time_apart(file_path):\n",
    "    df = pd.read_csv(file_path, parse_dates=['datetime'])\n",
    "    df['second'] = df['datetime'].dt.second\n",
    "    even_second_df = df[df['second'] % 2 == 0]\n",
    "\n",
    "    even_second_df = even_second_df.sort_values(by='datetime')\n",
    "    even_second_df['time_diff'] = even_second_df['datetime'].diff().dt.total_seconds()\n",
    "    average_diff = even_second_df['time_diff'].mean()\n",
    "    print(f\"Average time apart between even second measurements: {average_diff} seconds\")\n",
    "\n",
    "average_time_apart('../data/movements.csv')"
   ]
  },
  {
   "cell_type": "code",
   "execution_count": null,
   "metadata": {},
   "outputs": [],
   "source": []
  },
  {
   "cell_type": "code",
   "execution_count": null,
   "metadata": {},
   "outputs": [
    {
     "name": "stdout",
     "output_type": "stream",
     "text": [
      "Saved every other measurement to ../data/every_other_measurement.csv\n",
      "Average time apart between every other measurement: 119.96016013482156 seconds\n"
     ]
    }
   ],
   "source": [
    "def save_every_other_measurement(file_path, output_path):\n",
    "    df = pd.read_csv(file_path, parse_dates=['datetime'])\n",
    "    every_other_df = df.iloc[::2]\n",
    "    every_other_df.to_csv(output_path, index=False)\n",
    "    print(f\"Saved every other measurement to {output_path}\")\n",
    "\n",
    "save_every_other_measurement('../data/movements.csv', '../data/every_other_measurement.csv')\n"
   ]
  },
  {
   "cell_type": "code",
   "execution_count": null,
   "metadata": {},
   "outputs": [
    {
     "name": "stdout",
     "output_type": "stream",
     "text": [
      "Average time apart between every other measurement: 119.96016013482156 seconds\n"
     ]
    }
   ],
   "source": [
    "def average_time_apart_every_other(file_path):\n",
    "    df = pd.read_csv(file_path, parse_dates=['datetime'])\n",
    "    df = df.sort_values(by='datetime')\n",
    "    df['time_diff'] = df['datetime'].diff().dt.total_seconds()\n",
    "    average_diff = df['time_diff'].mean()\n",
    "    print(f\"Average time apart between every other measurement: {average_diff} seconds\")\n",
    "\n",
    "average_time_apart_every_other('../data/every_other_measurement.csv')"
   ]
  }
 ],
 "metadata": {
  "kernelspec": {
   "display_name": ".venv",
   "language": "python",
   "name": "python3"
  },
  "language_info": {
   "codemirror_mode": {
    "name": "ipython",
    "version": 3
   },
   "file_extension": ".py",
   "mimetype": "text/x-python",
   "name": "python",
   "nbconvert_exporter": "python",
   "pygments_lexer": "ipython3",
   "version": "3.12.7"
  }
 },
 "nbformat": 4,
 "nbformat_minor": 2
}
